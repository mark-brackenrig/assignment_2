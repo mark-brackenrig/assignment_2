{
 "cells": [
  {
   "cell_type": "code",
   "execution_count": 2,
   "id": "purple-thumb",
   "metadata": {},
   "outputs": [],
   "source": [
    "## Build Data set\n",
    "import pandas as pd\n",
    "import numpy as np\n",
    "from sklearn.preprocessing import StandardScaler, OneHotEncoder, LabelEncoder\n",
    "from sklearn.model_selection import train_test_split\n",
    "import torch\n",
    "import torch.nn as nn\n",
    "import torch.nn.functional as F\n",
    "import os\n",
    "from torch.utils.data import DataLoader\n",
    "import torch.nn.functional as F\n"
   ]
  },
  {
   "cell_type": "code",
   "execution_count": 3,
   "id": "bridal-undergraduate",
   "metadata": {},
   "outputs": [
    {
     "data": {
      "text/plain": [
       "'/Users/markbrackenrig/Documents/2021_FEB/ADSI/assignment_2'"
      ]
     },
     "execution_count": 3,
     "metadata": {},
     "output_type": "execute_result"
    }
   ],
   "source": [
    "os.chdir('../')\n",
    "os.getcwd()"
   ]
  },
  {
   "cell_type": "code",
   "execution_count": 4,
   "id": "standard-signature",
   "metadata": {},
   "outputs": [],
   "source": [
    "from src.data import make_dataset"
   ]
  },
  {
   "cell_type": "code",
   "execution_count": 5,
   "id": "sweet-secretariat",
   "metadata": {},
   "outputs": [],
   "source": [
    "data = pd.read_csv('data/raw/beer_reviews.csv')\n",
    "subsample = data.sample(frac=0.5, random_state = 1)"
   ]
  },
  {
   "cell_type": "code",
   "execution_count": 6,
   "id": "august-pregnancy",
   "metadata": {},
   "outputs": [
    {
     "name": "stdout",
     "output_type": "stream",
     "text": [
      "columns dropped\n",
      "brewery names encoded\n",
      "scaled data\n"
     ]
    }
   ],
   "source": [
    "X,y,y_encoder,ohe,scaler = make_dataset.process_data(subsample,2500)"
   ]
  },
  {
   "cell_type": "code",
   "execution_count": 7,
   "id": "korean-whole",
   "metadata": {},
   "outputs": [
    {
     "data": {
      "text/html": [
       "<div>\n",
       "<style scoped>\n",
       "    .dataframe tbody tr th:only-of-type {\n",
       "        vertical-align: middle;\n",
       "    }\n",
       "\n",
       "    .dataframe tbody tr th {\n",
       "        vertical-align: top;\n",
       "    }\n",
       "\n",
       "    .dataframe thead th {\n",
       "        text-align: right;\n",
       "    }\n",
       "</style>\n",
       "<table border=\"1\" class=\"dataframe\">\n",
       "  <thead>\n",
       "    <tr style=\"text-align: right;\">\n",
       "      <th></th>\n",
       "      <th>review_aroma</th>\n",
       "      <th>review_appearance</th>\n",
       "      <th>beer_style</th>\n",
       "      <th>review_palate</th>\n",
       "      <th>review_taste</th>\n",
       "    </tr>\n",
       "  </thead>\n",
       "  <tbody>\n",
       "    <tr>\n",
       "      <th>1480069</th>\n",
       "      <td>4.0</td>\n",
       "      <td>4.5</td>\n",
       "      <td>Hefeweizen</td>\n",
       "      <td>4.0</td>\n",
       "      <td>4.0</td>\n",
       "    </tr>\n",
       "    <tr>\n",
       "      <th>29298</th>\n",
       "      <td>4.5</td>\n",
       "      <td>4.0</td>\n",
       "      <td>American Double / Imperial IPA</td>\n",
       "      <td>4.5</td>\n",
       "      <td>4.0</td>\n",
       "    </tr>\n",
       "    <tr>\n",
       "      <th>727274</th>\n",
       "      <td>2.0</td>\n",
       "      <td>2.0</td>\n",
       "      <td>English India Pale Ale (IPA)</td>\n",
       "      <td>2.0</td>\n",
       "      <td>2.5</td>\n",
       "    </tr>\n",
       "    <tr>\n",
       "      <th>134051</th>\n",
       "      <td>4.5</td>\n",
       "      <td>5.0</td>\n",
       "      <td>American Double / Imperial IPA</td>\n",
       "      <td>4.0</td>\n",
       "      <td>4.5</td>\n",
       "    </tr>\n",
       "    <tr>\n",
       "      <th>77099</th>\n",
       "      <td>4.0</td>\n",
       "      <td>4.0</td>\n",
       "      <td>American Barleywine</td>\n",
       "      <td>4.5</td>\n",
       "      <td>4.0</td>\n",
       "    </tr>\n",
       "  </tbody>\n",
       "</table>\n",
       "</div>"
      ],
      "text/plain": [
       "         review_aroma  review_appearance                      beer_style  \\\n",
       "1480069           4.0                4.5                      Hefeweizen   \n",
       "29298             4.5                4.0  American Double / Imperial IPA   \n",
       "727274            2.0                2.0    English India Pale Ale (IPA)   \n",
       "134051            4.5                5.0  American Double / Imperial IPA   \n",
       "77099             4.0                4.0             American Barleywine   \n",
       "\n",
       "         review_palate  review_taste  \n",
       "1480069            4.0           4.0  \n",
       "29298              4.5           4.0  \n",
       "727274             2.0           2.5  \n",
       "134051             4.0           4.5  \n",
       "77099              4.5           4.0  "
      ]
     },
     "execution_count": 7,
     "metadata": {},
     "output_type": "execute_result"
    }
   ],
   "source": [
    "subsample.head(5)"
   ]
  },
  {
   "cell_type": "code",
   "execution_count": 8,
   "id": "formal-switzerland",
   "metadata": {},
   "outputs": [],
   "source": [
    "import pickle as pkl\n",
    "\n",
    "pkl.dump(ohe, open('models/ohe.pkl', 'wb'))\n",
    "pkl.dump(y_encoder, open('models/y_encoder.pkl', 'wb'))\n",
    "pkl.dump(scaler, open('models/scaler.pkl', 'wb'))\n"
   ]
  },
  {
   "cell_type": "markdown",
   "id": "filled-corpus",
   "metadata": {},
   "source": [
    "## Split into training and test sets"
   ]
  },
  {
   "cell_type": "code",
   "execution_count": 9,
   "id": "civic-masters",
   "metadata": {},
   "outputs": [],
   "source": [
    "X_train, X_test, y_train, y_test = train_test_split(X,y, test_size = 0.2, random_state = 42)"
   ]
  },
  {
   "cell_type": "code",
   "execution_count": 10,
   "id": "adopted-cache",
   "metadata": {},
   "outputs": [],
   "source": [
    "X_train, X_val, y_train, y_val = train_test_split(X_train,y_train, test_size = 0.25, random_state = 42)"
   ]
  },
  {
   "cell_type": "code",
   "execution_count": 11,
   "id": "analyzed-prophet",
   "metadata": {},
   "outputs": [],
   "source": [
    "from src.models.pytorch import PytorchDataset\n",
    "\n",
    "train_dataset = PytorchDataset(X=X_train, y=y_train)\n",
    "val_dataset = PytorchDataset(X=X_val, y=y_val)\n",
    "test_dataset = PytorchDataset(X=X_test, y=y_test)"
   ]
  },
  {
   "cell_type": "markdown",
   "id": "clinical-father",
   "metadata": {},
   "source": [
    "## Define Baseline Model"
   ]
  },
  {
   "cell_type": "code",
   "execution_count": 12,
   "id": "successful-chile",
   "metadata": {},
   "outputs": [],
   "source": [
    "from src.models.null import NullModel\n",
    "\n",
    "baseline_model = NullModel(target_type = 'classification')\n",
    "y_base = baseline_model.fit_predict(y_train)"
   ]
  },
  {
   "cell_type": "code",
   "execution_count": 13,
   "id": "resistant-paraguay",
   "metadata": {},
   "outputs": [
    {
     "name": "stdout",
     "output_type": "stream",
     "text": [
      "Accuracy Training: 0.07396902830563276\n",
      "F1 Training: 0.010189152581265001\n"
     ]
    }
   ],
   "source": [
    "from src.models.performance import print_class_perf\n",
    "print_class_perf(y_base, y_train, set_name='Training', average = 'weighted')"
   ]
  },
  {
   "cell_type": "markdown",
   "id": "identical-spelling",
   "metadata": {},
   "source": [
    "## Define Model Architecture\n",
    "\n",
    "Just want to get a basic 1 layer model working before I try and get anything deeper working"
   ]
  },
  {
   "cell_type": "code",
   "execution_count": 14,
   "id": "tracked-denmark",
   "metadata": {},
   "outputs": [],
   "source": [
    "from src.models.pytorch import PytorchMultiClass\n",
    "\n",
    "model = PytorchMultiClass(num_features = X_train.shape[1],class_num= 104)"
   ]
  },
  {
   "cell_type": "code",
   "execution_count": 15,
   "id": "derived-mainstream",
   "metadata": {},
   "outputs": [],
   "source": [
    "class PytorchMultiClass(nn.Module):\n",
    "    def __init__(self, num_features,class_num):\n",
    "        super(PytorchMultiClass, self).__init__()\n",
    "        \n",
    "        self.layer_1 = nn.Linear(num_features, 104)\n",
    "        self.layer_out = nn.Linear(104,class_num)\n",
    "        self.softmax = nn.Softmax(dim=1)\n",
    "\n",
    "    def forward(self, x):\n",
    "        x = F.dropout(F.relu(self.layer_1(x)), training=self.training)\n",
    "        x = self.layer_out(x)\n",
    "        return self.softmax(x)\n",
    "    \n",
    "    \n",
    "model = PytorchMultiClass(num_features = X_train.shape[1],class_num= 104)"
   ]
  },
  {
   "cell_type": "code",
   "execution_count": 16,
   "id": "stock-germany",
   "metadata": {},
   "outputs": [
    {
     "name": "stdout",
     "output_type": "stream",
     "text": [
      "cpu\n"
     ]
    },
    {
     "data": {
      "text/plain": [
       "PytorchMultiClass(\n",
       "  (layer_1): Linear(in_features=2504, out_features=104, bias=True)\n",
       "  (layer_out): Linear(in_features=104, out_features=104, bias=True)\n",
       "  (softmax): Softmax(dim=1)\n",
       ")"
      ]
     },
     "execution_count": 16,
     "metadata": {},
     "output_type": "execute_result"
    }
   ],
   "source": [
    "from src.models.pytorch import get_device\n",
    "device = get_device()\n",
    "print(device)\n",
    "model.to(device)"
   ]
  },
  {
   "cell_type": "markdown",
   "id": "composed-crazy",
   "metadata": {},
   "source": [
    "## Train Model"
   ]
  },
  {
   "cell_type": "code",
   "execution_count": 17,
   "id": "major-prague",
   "metadata": {},
   "outputs": [],
   "source": [
    "N_EPOCHS = 30\n",
    "BATCH_SIZE = 10000\n",
    "criterion = nn.CrossEntropyLoss()\n",
    "optimizer = torch.optim.Adam(model.parameters(), lr=0.1)"
   ]
  },
  {
   "cell_type": "code",
   "execution_count": 18,
   "id": "legendary-portuguese",
   "metadata": {},
   "outputs": [],
   "source": [
    "from src.models.train_model import train_classification, test_classification"
   ]
  },
  {
   "cell_type": "code",
   "execution_count": 19,
   "id": "assumed-vegetation",
   "metadata": {},
   "outputs": [
    {
     "name": "stdout",
     "output_type": "stream",
     "text": [
      "Epoch: 0: |████████████████████████████████████████████████--| 97.9% Complete\n",
      "\t(train)\t|\tLoss: 0.0005\t|\tAcc: 13.3%\n",
      "\t(valid)\t|\tLoss: 0.0005\t|\tAcc: 18.4%\n",
      "Epoch: 1: |████████████████████████████████████████████████--| 97.9% Complete\n",
      "\t(train)\t|\tLoss: 0.0005\t|\tAcc: 19.4%\n",
      "\t(valid)\t|\tLoss: 0.0004\t|\tAcc: 21.3%\n",
      "Epoch: 2: |████████████████████████████████████████████████--| 97.9% Complete\n",
      "\t(train)\t|\tLoss: 0.0004\t|\tAcc: 21.5%\n",
      "\t(valid)\t|\tLoss: 0.0004\t|\tAcc: 22.7%\n",
      "Epoch: 3: |████████████████████████████████████████████████--| 97.9% Complete\n",
      "\t(train)\t|\tLoss: 0.0004\t|\tAcc: 22.5%\n",
      "\t(valid)\t|\tLoss: 0.0004\t|\tAcc: 23.1%\n",
      "Epoch: 4: |████████████████████████████████████████████████--| 97.9% Complete\n",
      "\t(train)\t|\tLoss: 0.0004\t|\tAcc: 22.8%\n",
      "\t(valid)\t|\tLoss: 0.0004\t|\tAcc: 23.1%\n",
      "Epoch: 5: |████████████████████████████████████████████████--| 97.9% Complete\n",
      "\t(train)\t|\tLoss: 0.0004\t|\tAcc: 22.9%\n",
      "\t(valid)\t|\tLoss: 0.0004\t|\tAcc: 23.2%\n",
      "Epoch: 6: |████████████████████████████████████████████████--| 97.9% Complete\n",
      "\t(train)\t|\tLoss: 0.0004\t|\tAcc: 23.0%\n",
      "\t(valid)\t|\tLoss: 0.0004\t|\tAcc: 23.3%\n",
      "Epoch: 7: |████████████████████████████████████████████████--| 97.9% Complete\n",
      "\t(train)\t|\tLoss: 0.0004\t|\tAcc: 23.1%\n",
      "\t(valid)\t|\tLoss: 0.0004\t|\tAcc: 23.4%\n",
      "Epoch: 8: |████████████████████████████████████████████████--| 97.9% Complete\n",
      "\t(train)\t|\tLoss: 0.0004\t|\tAcc: 23.2%\n",
      "\t(valid)\t|\tLoss: 0.0004\t|\tAcc: 23.4%\n",
      "Epoch: 9: |████████████████████████████████████████████████--| 97.9% Complete\n",
      "\t(train)\t|\tLoss: 0.0004\t|\tAcc: 23.3%\n",
      "\t(valid)\t|\tLoss: 0.0004\t|\tAcc: 23.5%\n",
      "Epoch: 10 |████████████████████████████████████████████████--| 97.9% Complete\n",
      "\t(train)\t|\tLoss: 0.0004\t|\tAcc: 23.3%\n",
      "\t(valid)\t|\tLoss: 0.0004\t|\tAcc: 23.5%\n",
      "Epoch: 11 |████████████████████████████████████████████████--| 97.9% Complete\n",
      "\t(train)\t|\tLoss: 0.0004\t|\tAcc: 23.3%\n",
      "\t(valid)\t|\tLoss: 0.0004\t|\tAcc: 23.5%\n",
      "Epoch: 12 |████████████████████████████████████████████████--| 97.9% Complete\n",
      "\t(train)\t|\tLoss: 0.0004\t|\tAcc: 23.3%\n",
      "\t(valid)\t|\tLoss: 0.0004\t|\tAcc: 23.6%\n",
      "Epoch: 13 |████████████████████████████████████████████████--| 97.9% Complete\n",
      "\t(train)\t|\tLoss: 0.0004\t|\tAcc: 23.4%\n",
      "\t(valid)\t|\tLoss: 0.0004\t|\tAcc: 23.7%\n",
      "Epoch: 14 |████████████████████████████████████████████████--| 97.9% Complete\n",
      "\t(train)\t|\tLoss: 0.0004\t|\tAcc: 23.4%\n",
      "\t(valid)\t|\tLoss: 0.0004\t|\tAcc: 23.7%\n",
      "Epoch: 15 |████████████████████████████████████████████████--| 97.9% Complete\n",
      "\t(train)\t|\tLoss: 0.0004\t|\tAcc: 23.4%\n",
      "\t(valid)\t|\tLoss: 0.0004\t|\tAcc: 23.6%\n",
      "Epoch: 16 |████████████████████████████████████████████████--| 97.9% Complete\n",
      "\t(train)\t|\tLoss: 0.0004\t|\tAcc: 23.3%\n",
      "\t(valid)\t|\tLoss: 0.0004\t|\tAcc: 23.5%\n",
      "Epoch: 17 |████████████████████████████████████████████████--| 97.9% Complete\n",
      "\t(train)\t|\tLoss: 0.0004\t|\tAcc: 23.3%\n",
      "\t(valid)\t|\tLoss: 0.0004\t|\tAcc: 23.7%\n",
      "Epoch: 18 |████████████████████████████████████████████████--| 97.9% Complete\n",
      "\t(train)\t|\tLoss: 0.0004\t|\tAcc: 23.4%\n",
      "\t(valid)\t|\tLoss: 0.0004\t|\tAcc: 23.8%\n",
      "Epoch: 19 |████████████████████████████████████████████████--| 97.9% Complete\n",
      "\t(train)\t|\tLoss: 0.0004\t|\tAcc: 23.4%\n",
      "\t(valid)\t|\tLoss: 0.0004\t|\tAcc: 23.8%\n",
      "Epoch: 20 |████████████████████████████████████████████████--| 97.9% Complete\n",
      "\t(train)\t|\tLoss: 0.0004\t|\tAcc: 23.4%\n",
      "\t(valid)\t|\tLoss: 0.0004\t|\tAcc: 23.7%\n",
      "Epoch: 21 |████████████████████████████████████████████████--| 97.9% Complete\n",
      "\t(train)\t|\tLoss: 0.0004\t|\tAcc: 23.3%\n",
      "\t(valid)\t|\tLoss: 0.0004\t|\tAcc: 23.6%\n",
      "Epoch: 22 |████████████████████████████████████████████████--| 97.9% Complete\n",
      "\t(train)\t|\tLoss: 0.0004\t|\tAcc: 23.4%\n",
      "\t(valid)\t|\tLoss: 0.0004\t|\tAcc: 23.6%\n",
      "Epoch: 23 |████████████████████████████████████████████████--| 97.9% Complete\n",
      "\t(train)\t|\tLoss: 0.0004\t|\tAcc: 23.4%\n",
      "\t(valid)\t|\tLoss: 0.0004\t|\tAcc: 23.7%\n",
      "Epoch: 24 |████████████████████████████████████████████████--| 97.9% Complete\n",
      "\t(train)\t|\tLoss: 0.0004\t|\tAcc: 23.4%\n",
      "\t(valid)\t|\tLoss: 0.0004\t|\tAcc: 23.7%\n",
      "Epoch: 25 |████████████████████████████████████████████████--| 97.9% Complete\n",
      "\t(train)\t|\tLoss: 0.0004\t|\tAcc: 23.4%\n",
      "\t(valid)\t|\tLoss: 0.0004\t|\tAcc: 23.7%\n",
      "Epoch: 26 |████████████████████████████████████████████████--| 97.9% Complete\n",
      "\t(train)\t|\tLoss: 0.0004\t|\tAcc: 23.4%\n",
      "\t(valid)\t|\tLoss: 0.0004\t|\tAcc: 23.7%\n",
      "Epoch: 27 |████████████████████████████████████████████████--| 97.9% Complete\n",
      "\t(train)\t|\tLoss: 0.0004\t|\tAcc: 23.4%\n",
      "\t(valid)\t|\tLoss: 0.0004\t|\tAcc: 23.8%\n",
      "Epoch: 28 |████████████████████████████████████████████████--| 97.9% Complete\n",
      "\t(train)\t|\tLoss: 0.0004\t|\tAcc: 23.5%\n",
      "\t(valid)\t|\tLoss: 0.0004\t|\tAcc: 23.7%\n",
      "Epoch: 29 |████████████████████████████████████████████████--| 97.9% Complete\n",
      "\t(train)\t|\tLoss: 0.0004\t|\tAcc: 23.5%\n",
      "\t(valid)\t|\tLoss: 0.0004\t|\tAcc: 23.7%\n"
     ]
    }
   ],
   "source": [
    "\n",
    "for epoch in range(N_EPOCHS):\n",
    "    train_loss, train_acc = train_classification(train_dataset, model=model, criterion=criterion, optimizer=optimizer, batch_size=BATCH_SIZE, device=device)\n",
    "    valid_loss, valid_acc = test_classification(val_dataset, model=model, criterion=criterion, batch_size=BATCH_SIZE, device=device)\n",
    "\n",
    "    print(f'Epoch: {epoch}')\n",
    "    print(f'\\t(train)\\t|\\tLoss: {train_loss:.4f}\\t|\\tAcc: {train_acc * 100:.1f}%')\n",
    "    print(f'\\t(valid)\\t|\\tLoss: {valid_loss:.4f}\\t|\\tAcc: {valid_acc * 100:.1f}%')"
   ]
  },
  {
   "cell_type": "code",
   "execution_count": 20,
   "id": "assured-fluid",
   "metadata": {},
   "outputs": [],
   "source": [
    "\n",
    "def predict(test_data, model, criterion, batch_size, device, generate_batch=None):\n",
    "    \"\"\"Calculate performance of a Pytorch multi-class classification model\n",
    "\n",
    "    Parameters\n",
    "    ----------\n",
    "    test_data : torch.utils.data.Dataset\n",
    "        Pytorch dataset\n",
    "    model: torch.nn.Module\n",
    "        Pytorch Model\n",
    "    criterion: function\n",
    "        Loss function\n",
    "    bacth_size : int\n",
    "        Number of observations per batch\n",
    "    device : str\n",
    "        Name of the device used for the model\n",
    "    collate_fn : function\n",
    "        Function defining required pre-processing steps\n",
    "\n",
    "    Returns\n",
    "    -------\n",
    "    Float\n",
    "        Loss score\n",
    "    Float:\n",
    "        Accuracy Score\n",
    "    \"\"\"    \n",
    "    \n",
    "    # Set model to evaluation mode\n",
    "    model.eval()\n",
    "    test_loss = 0\n",
    "    test_acc = 0\n",
    "    \n",
    "    # Create data loader\n",
    "    data = DataLoader(test_data, batch_size=batch_size, collate_fn=generate_batch)\n",
    "    results = []\n",
    "    # Iterate through data by batch of observations\n",
    "    for feature, target_class in data:\n",
    "        \n",
    "        feature, target_class = feature.to(device), target_class.flatten().to(device)\n",
    "        \n",
    "        # Set no update to gradients\n",
    "        with torch.no_grad():\n",
    "            # Make predictions\n",
    "            output = model(feature)\n",
    "            \n",
    "        results.append({'prediction': output.argmax(1)[0],'target': target_class[0] })\n",
    "    return results"
   ]
  },
  {
   "cell_type": "code",
   "execution_count": 21,
   "id": "egyptian-homeless",
   "metadata": {},
   "outputs": [],
   "source": [
    "test_predictions = predict(test_dataset, model=model, criterion=criterion, batch_size=1, device=device)"
   ]
  },
  {
   "cell_type": "code",
   "execution_count": 22,
   "id": "brazilian-rehabilitation",
   "metadata": {},
   "outputs": [],
   "source": [
    "test_predictions = pd.DataFrame(test_predictions)"
   ]
  },
  {
   "cell_type": "code",
   "execution_count": 23,
   "id": "incorporated-tension",
   "metadata": {},
   "outputs": [
    {
     "data": {
      "text/html": [
       "<div>\n",
       "<style scoped>\n",
       "    .dataframe tbody tr th:only-of-type {\n",
       "        vertical-align: middle;\n",
       "    }\n",
       "\n",
       "    .dataframe tbody tr th {\n",
       "        vertical-align: top;\n",
       "    }\n",
       "\n",
       "    .dataframe thead th {\n",
       "        text-align: right;\n",
       "    }\n",
       "</style>\n",
       "<table border=\"1\" class=\"dataframe\">\n",
       "  <thead>\n",
       "    <tr style=\"text-align: right;\">\n",
       "      <th></th>\n",
       "      <th>prediction</th>\n",
       "      <th>target</th>\n",
       "    </tr>\n",
       "  </thead>\n",
       "  <tbody>\n",
       "    <tr>\n",
       "      <th>0</th>\n",
       "      <td>tensor(12)</td>\n",
       "      <td>tensor(101.)</td>\n",
       "    </tr>\n",
       "    <tr>\n",
       "      <th>1</th>\n",
       "      <td>tensor(12)</td>\n",
       "      <td>tensor(12.)</td>\n",
       "    </tr>\n",
       "    <tr>\n",
       "      <th>2</th>\n",
       "      <td>tensor(89)</td>\n",
       "      <td>tensor(89.)</td>\n",
       "    </tr>\n",
       "    <tr>\n",
       "      <th>3</th>\n",
       "      <td>tensor(11)</td>\n",
       "      <td>tensor(84.)</td>\n",
       "    </tr>\n",
       "  </tbody>\n",
       "</table>\n",
       "</div>"
      ],
      "text/plain": [
       "   prediction        target\n",
       "0  tensor(12)  tensor(101.)\n",
       "1  tensor(12)   tensor(12.)\n",
       "2  tensor(89)   tensor(89.)\n",
       "3  tensor(11)   tensor(84.)"
      ]
     },
     "execution_count": 23,
     "metadata": {},
     "output_type": "execute_result"
    }
   ],
   "source": [
    "test_predictions.head(4)"
   ]
  },
  {
   "cell_type": "code",
   "execution_count": 24,
   "id": "induced-custom",
   "metadata": {},
   "outputs": [
    {
     "data": {
      "text/plain": [
       "tensor(12, dtype=torch.int32)"
      ]
     },
     "execution_count": 24,
     "metadata": {},
     "output_type": "execute_result"
    }
   ],
   "source": [
    "test_predictions[\"prediction\"][0].int()"
   ]
  },
  {
   "cell_type": "code",
   "execution_count": 25,
   "id": "brilliant-fancy",
   "metadata": {},
   "outputs": [],
   "source": [
    "from sklearn.metrics import confusion_matrix"
   ]
  },
  {
   "cell_type": "code",
   "execution_count": 26,
   "id": "forward-castle",
   "metadata": {},
   "outputs": [],
   "source": [
    "pd.DataFrame(confusion_matrix(test_predictions['prediction'].astype(int), test_predictions['target'].astype(int))).to_csv('reports/confusion_matrix.csv')"
   ]
  },
  {
   "cell_type": "markdown",
   "id": "toxic-broadway",
   "metadata": {},
   "source": [
    "## Save Model"
   ]
  },
  {
   "cell_type": "code",
   "execution_count": 27,
   "id": "utility-sector",
   "metadata": {},
   "outputs": [],
   "source": [
    "torch.save(model.state_dict(), \"models/beer_style_prediction.pt\")"
   ]
  },
  {
   "cell_type": "code",
   "execution_count": 28,
   "id": "separate-boost",
   "metadata": {},
   "outputs": [
    {
     "data": {
      "text/plain": [
       "<All keys matched successfully>"
      ]
     },
     "execution_count": 28,
     "metadata": {},
     "output_type": "execute_result"
    }
   ],
   "source": [
    "model2 = PytorchMultiClass(num_features = 2504,class_num= 104)\n",
    "model2.load_state_dict(torch.load('models/beer_style_prediction.pt'))"
   ]
  },
  {
   "cell_type": "code",
   "execution_count": 29,
   "id": "helpful-gabriel",
   "metadata": {},
   "outputs": [],
   "source": [
    "test_predictions = predict(test_dataset, model=model2, criterion=criterion, batch_size=1, device=device)"
   ]
  },
  {
   "cell_type": "code",
   "execution_count": 30,
   "id": "informed-stand",
   "metadata": {},
   "outputs": [
    {
     "data": {
      "text/html": [
       "<div>\n",
       "<style scoped>\n",
       "    .dataframe tbody tr th:only-of-type {\n",
       "        vertical-align: middle;\n",
       "    }\n",
       "\n",
       "    .dataframe tbody tr th {\n",
       "        vertical-align: top;\n",
       "    }\n",
       "\n",
       "    .dataframe thead th {\n",
       "        text-align: right;\n",
       "    }\n",
       "</style>\n",
       "<table border=\"1\" class=\"dataframe\">\n",
       "  <thead>\n",
       "    <tr style=\"text-align: right;\">\n",
       "      <th></th>\n",
       "      <th>prediction</th>\n",
       "      <th>target</th>\n",
       "    </tr>\n",
       "  </thead>\n",
       "  <tbody>\n",
       "    <tr>\n",
       "      <th>0</th>\n",
       "      <td>tensor(12)</td>\n",
       "      <td>tensor(101.)</td>\n",
       "    </tr>\n",
       "    <tr>\n",
       "      <th>1</th>\n",
       "      <td>tensor(12)</td>\n",
       "      <td>tensor(12.)</td>\n",
       "    </tr>\n",
       "    <tr>\n",
       "      <th>2</th>\n",
       "      <td>tensor(89)</td>\n",
       "      <td>tensor(89.)</td>\n",
       "    </tr>\n",
       "    <tr>\n",
       "      <th>3</th>\n",
       "      <td>tensor(11)</td>\n",
       "      <td>tensor(84.)</td>\n",
       "    </tr>\n",
       "  </tbody>\n",
       "</table>\n",
       "</div>"
      ],
      "text/plain": [
       "   prediction        target\n",
       "0  tensor(12)  tensor(101.)\n",
       "1  tensor(12)   tensor(12.)\n",
       "2  tensor(89)   tensor(89.)\n",
       "3  tensor(11)   tensor(84.)"
      ]
     },
     "execution_count": 30,
     "metadata": {},
     "output_type": "execute_result"
    }
   ],
   "source": [
    "test_predictions = pd.DataFrame(test_predictions)\n",
    "test_predictions.head(4)"
   ]
  },
  {
   "cell_type": "code",
   "execution_count": 31,
   "id": "veterinary-secret",
   "metadata": {},
   "outputs": [
    {
     "name": "stdout",
     "output_type": "stream",
     "text": [
      "OrderedDict([('layer_1.weight', tensor([[ 0.1508, -0.4071, -0.0057,  ..., -2.1080, -0.9141,  2.0456],\n",
      "        [-0.1883, -0.8978,  1.1272,  ..., -2.2986,  0.9041, -3.3805],\n",
      "        [-0.2409, -1.6998, -1.4339,  ..., -3.8144, -1.2046, -0.2584],\n",
      "        ...,\n",
      "        [-0.4061, -0.4042,  0.1875,  ..., -0.2861, -0.6686, -1.9804],\n",
      "        [ 1.6667,  0.8937,  2.8287,  ..., -0.0161, -0.9060,  3.6208],\n",
      "        [-0.9838, -0.2071,  0.1053,  ...,  2.3642,  1.9127, -2.7356]])), ('layer_1.bias', tensor([ 0.3283,  0.3019, -2.9318, -4.8317, -1.0070,  0.1908, -0.7505, -0.2786,\n",
      "        -0.0594,  1.3406, -3.4721, -5.2915, -0.6629, -0.5909, -3.6931, -1.4033,\n",
      "         0.7492, -0.8960, -2.3477, -4.3504, -0.5882, -0.9296, -3.2576,  2.0364,\n",
      "        -0.1451,  1.6624, -1.7830,  1.1757,  0.1803,  0.5731,  0.7550, -1.2366,\n",
      "        -1.0141, -0.4462, -1.8991, -0.6147, -1.1310, -0.2201, -0.7747, -1.9835,\n",
      "         1.0258,  1.1491,  0.0390, -0.1213, -1.0352,  0.1172, -1.0311,  0.6373,\n",
      "        -0.8022, -1.2238,  2.0063, -1.4933, -0.0871, -0.3054,  0.3006, -0.2235,\n",
      "        -3.2635,  0.9289,  0.5658,  1.0680, -1.3394, -0.6262, -4.3742,  0.5986,\n",
      "         0.0236,  0.8321,  0.5150,  1.8589,  0.9947, -0.2182,  1.2747, -0.7683,\n",
      "        -3.0700,  1.4631, -3.4174,  0.3662, -5.7638,  1.0187, -0.2614,  0.6229,\n",
      "        -0.4788,  0.6668, -0.4725, -1.5414, -0.6959, -3.7663, -0.3565, -1.7770,\n",
      "        -0.7479, -1.3987, -2.2678, -3.5958,  1.0699, -0.0990,  0.9045, -0.4208,\n",
      "         0.8782,  1.8898, -0.6430,  1.4479, -3.9557, -2.8229, -3.0824,  0.2050])), ('layer_out.weight', tensor([[ 5.3138, -3.3068, -6.3414,  ..., -6.4600, -1.6005, -4.0812],\n",
      "        [-1.8845, -6.9275,  3.4420,  ...,  3.8904, -1.9918, -0.0646],\n",
      "        [-0.6171, -0.8239, -0.0803,  ..., -0.1501, -0.5984, -0.7198],\n",
      "        ...,\n",
      "        [-0.8214, -0.8224, -1.1802,  ..., -0.9607, -0.7969, -1.2881],\n",
      "        [-0.7187, -0.8339, -0.7320,  ..., -0.6749, -0.8346, -0.8970],\n",
      "        [-0.0377, -0.8871, -0.0582,  ..., -0.0515, -0.6781, -0.2579]])), ('layer_out.bias', tensor([ 4.7677, -3.1593, -0.3988, -1.6643, -0.8602, -1.6741, -1.6083, -0.8239,\n",
      "        -1.2156, -2.1335, -1.3460, -5.2239, -1.0091, -1.3178,  1.6313, -1.4736,\n",
      "        -1.2929, -0.2671, -0.8458, -0.3413, -1.2433, -1.5096, -1.2589, -1.7182,\n",
      "        10.0381, -0.1056,  1.2428, -1.0910, -1.3683, -1.3793, -1.4189, -1.4570,\n",
      "        -1.2883, -1.3311, -1.3764, -1.4899, -0.5044,  1.9118, -1.0275,  5.9437,\n",
      "        -0.9348, -1.3053,  0.6405, -1.5293, -1.2520, -1.4304, -1.5484,  3.4269,\n",
      "        -1.2900, -1.5332, -1.3822, -1.4840, -1.4143, -0.3962, -1.3208, -1.6791,\n",
      "        -1.1920, -1.3586, 13.7325, -1.4163, -4.2745, -0.3955, -0.8703, -0.9303,\n",
      "        -1.1868,  8.3151, -1.7367,  3.1575,  2.2761, -1.4007, -1.2330, -1.1600,\n",
      "        -1.3837,  5.7517,  3.5714, -1.2004, -1.4476, -1.2262, -1.2924, -1.7492,\n",
      "        -1.3460, -0.6373,  9.7184, -1.2417, -2.5781, -1.5082,  6.2294,  9.6127,\n",
      "        -1.3039, -3.0454, -1.4829, -1.2939, -0.7531,  5.3697,  0.8379,  3.0313,\n",
      "         6.2202, -1.3973, -0.2851, -1.5202, -1.2742, -1.3491, -1.0892, -0.8558]))])\n"
     ]
    }
   ],
   "source": [
    "print(model2.state_dict())"
   ]
  },
  {
   "cell_type": "code",
   "execution_count": 32,
   "id": "brazilian-rover",
   "metadata": {},
   "outputs": [
    {
     "name": "stdout",
     "output_type": "stream",
     "text": [
      "PytorchMultiClass(\n",
      "  (layer_1): Linear(in_features=2504, out_features=104, bias=True)\n",
      "  (layer_out): Linear(in_features=104, out_features=104, bias=True)\n",
      "  (softmax): Softmax(dim=1)\n",
      ")\n"
     ]
    }
   ],
   "source": [
    "print(model)"
   ]
  },
  {
   "cell_type": "code",
   "execution_count": 33,
   "id": "minute-browser",
   "metadata": {},
   "outputs": [
    {
     "data": {
      "text/plain": [
       "'PytorchMultiClass(\\n  (layer_1): Linear(in_features=2504, out_features=104, bias=True)\\n  (layer_out): Linear(in_features=104, out_features=104, bias=True)\\n  (softmax): Softmax(dim=1)\\n)'"
      ]
     },
     "execution_count": 33,
     "metadata": {},
     "output_type": "execute_result"
    }
   ],
   "source": [
    "str(model)"
   ]
  },
  {
   "cell_type": "code",
   "execution_count": 81,
   "id": "dedicated-budapest",
   "metadata": {},
   "outputs": [
    {
     "data": {
      "text/plain": [
       "Linear(in_features=1005, out_features=104, bias=True)"
      ]
     },
     "execution_count": 81,
     "metadata": {},
     "output_type": "execute_result"
    }
   ],
   "source": [
    "model.layer_1"
   ]
  },
  {
   "cell_type": "code",
   "execution_count": 83,
   "id": "accepting-lambda",
   "metadata": {},
   "outputs": [
    {
     "data": {
      "text/plain": [
       "<bound method PytorchMultiClass.forward of PytorchMultiClass(\n",
       "  (layer_1): Linear(in_features=1005, out_features=104, bias=True)\n",
       "  (layer_2): Linear(in_features=104, out_features=104, bias=True)\n",
       "  (layer_3): ReLU()\n",
       "  (layer_out): Linear(in_features=104, out_features=104, bias=True)\n",
       "  (softmax): Softmax(dim=1)\n",
       ")>"
      ]
     },
     "execution_count": 83,
     "metadata": {},
     "output_type": "execute_result"
    }
   ],
   "source": [
    "model.forward"
   ]
  },
  {
   "cell_type": "code",
   "execution_count": null,
   "id": "reverse-november",
   "metadata": {},
   "outputs": [],
   "source": []
  }
 ],
 "metadata": {
  "kernelspec": {
   "display_name": "Python 3",
   "language": "python",
   "name": "python3"
  },
  "language_info": {
   "codemirror_mode": {
    "name": "ipython",
    "version": 3
   },
   "file_extension": ".py",
   "mimetype": "text/x-python",
   "name": "python",
   "nbconvert_exporter": "python",
   "pygments_lexer": "ipython3",
   "version": "3.8.8"
  }
 },
 "nbformat": 4,
 "nbformat_minor": 5
}
