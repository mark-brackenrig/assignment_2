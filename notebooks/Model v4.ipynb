{
 "cells": [
  {
   "cell_type": "code",
   "execution_count": 1,
   "id": "arranged-construction",
   "metadata": {},
   "outputs": [],
   "source": [
    "## Build Data set\n",
    "import pandas as pd\n",
    "import numpy as np\n",
    "from sklearn.preprocessing import StandardScaler, OneHotEncoder, LabelEncoder\n",
    "from sklearn.model_selection import train_test_split\n",
    "import torch\n",
    "import torch.nn as nn\n",
    "import torch.nn.functional as F\n",
    "import os\n",
    "from torch.utils.data import DataLoader\n",
    "import torch.nn.functional as F\n"
   ]
  },
  {
   "cell_type": "code",
   "execution_count": 2,
   "id": "illegal-formation",
   "metadata": {},
   "outputs": [
    {
     "data": {
      "text/plain": [
       "'/Users/markbrackenrig/Documents/2021_FEB/ADSI/assignment_2'"
      ]
     },
     "execution_count": 2,
     "metadata": {},
     "output_type": "execute_result"
    }
   ],
   "source": [
    "os.chdir('../')\n",
    "os.getcwd()"
   ]
  },
  {
   "cell_type": "code",
   "execution_count": 3,
   "id": "cognitive-basin",
   "metadata": {},
   "outputs": [],
   "source": [
    "from src.data import make_dataset"
   ]
  },
  {
   "cell_type": "code",
   "execution_count": 4,
   "id": "romantic-liechtenstein",
   "metadata": {},
   "outputs": [],
   "source": [
    "data = pd.read_csv('data/raw/beer_reviews.csv')\n",
    "subsample = data.sample(frac=0.5, random_state = 1)"
   ]
  },
  {
   "cell_type": "code",
   "execution_count": 5,
   "id": "genetic-nepal",
   "metadata": {},
   "outputs": [
    {
     "name": "stdout",
     "output_type": "stream",
     "text": [
      "columns dropped\n",
      "brewery names encoded\n",
      "scaled data\n"
     ]
    }
   ],
   "source": [
    "X,y,y_encoder,ohe,scaler = make_dataset.process_data(subsample,2500)"
   ]
  },
  {
   "cell_type": "code",
   "execution_count": 6,
   "id": "ordered-value",
   "metadata": {},
   "outputs": [
    {
     "data": {
      "text/html": [
       "<div>\n",
       "<style scoped>\n",
       "    .dataframe tbody tr th:only-of-type {\n",
       "        vertical-align: middle;\n",
       "    }\n",
       "\n",
       "    .dataframe tbody tr th {\n",
       "        vertical-align: top;\n",
       "    }\n",
       "\n",
       "    .dataframe thead th {\n",
       "        text-align: right;\n",
       "    }\n",
       "</style>\n",
       "<table border=\"1\" class=\"dataframe\">\n",
       "  <thead>\n",
       "    <tr style=\"text-align: right;\">\n",
       "      <th></th>\n",
       "      <th>review_aroma</th>\n",
       "      <th>review_appearance</th>\n",
       "      <th>beer_style</th>\n",
       "      <th>review_palate</th>\n",
       "      <th>review_taste</th>\n",
       "    </tr>\n",
       "  </thead>\n",
       "  <tbody>\n",
       "    <tr>\n",
       "      <th>1480069</th>\n",
       "      <td>4.0</td>\n",
       "      <td>4.5</td>\n",
       "      <td>Hefeweizen</td>\n",
       "      <td>4.0</td>\n",
       "      <td>4.0</td>\n",
       "    </tr>\n",
       "    <tr>\n",
       "      <th>29298</th>\n",
       "      <td>4.5</td>\n",
       "      <td>4.0</td>\n",
       "      <td>American Double / Imperial IPA</td>\n",
       "      <td>4.5</td>\n",
       "      <td>4.0</td>\n",
       "    </tr>\n",
       "    <tr>\n",
       "      <th>727274</th>\n",
       "      <td>2.0</td>\n",
       "      <td>2.0</td>\n",
       "      <td>English India Pale Ale (IPA)</td>\n",
       "      <td>2.0</td>\n",
       "      <td>2.5</td>\n",
       "    </tr>\n",
       "    <tr>\n",
       "      <th>134051</th>\n",
       "      <td>4.5</td>\n",
       "      <td>5.0</td>\n",
       "      <td>American Double / Imperial IPA</td>\n",
       "      <td>4.0</td>\n",
       "      <td>4.5</td>\n",
       "    </tr>\n",
       "    <tr>\n",
       "      <th>77099</th>\n",
       "      <td>4.0</td>\n",
       "      <td>4.0</td>\n",
       "      <td>American Barleywine</td>\n",
       "      <td>4.5</td>\n",
       "      <td>4.0</td>\n",
       "    </tr>\n",
       "  </tbody>\n",
       "</table>\n",
       "</div>"
      ],
      "text/plain": [
       "         review_aroma  review_appearance                      beer_style  \\\n",
       "1480069           4.0                4.5                      Hefeweizen   \n",
       "29298             4.5                4.0  American Double / Imperial IPA   \n",
       "727274            2.0                2.0    English India Pale Ale (IPA)   \n",
       "134051            4.5                5.0  American Double / Imperial IPA   \n",
       "77099             4.0                4.0             American Barleywine   \n",
       "\n",
       "         review_palate  review_taste  \n",
       "1480069            4.0           4.0  \n",
       "29298              4.5           4.0  \n",
       "727274             2.0           2.5  \n",
       "134051             4.0           4.5  \n",
       "77099              4.5           4.0  "
      ]
     },
     "execution_count": 6,
     "metadata": {},
     "output_type": "execute_result"
    }
   ],
   "source": [
    "subsample.head(5)"
   ]
  },
  {
   "cell_type": "markdown",
   "id": "apparent-pierce",
   "metadata": {},
   "source": [
    "## Split into training and test sets"
   ]
  },
  {
   "cell_type": "code",
   "execution_count": 7,
   "id": "radio-administrator",
   "metadata": {},
   "outputs": [],
   "source": [
    "X_train, X_test, y_train, y_test = train_test_split(X,y, test_size = 0.2, random_state = 42)"
   ]
  },
  {
   "cell_type": "code",
   "execution_count": 8,
   "id": "associate-wagner",
   "metadata": {},
   "outputs": [],
   "source": [
    "X_train, X_val, y_train, y_val = train_test_split(X_train,y_train, test_size = 0.25, random_state = 42)"
   ]
  },
  {
   "cell_type": "code",
   "execution_count": 9,
   "id": "living-station",
   "metadata": {},
   "outputs": [],
   "source": [
    "from src.models.pytorch import PytorchDataset\n",
    "\n",
    "train_dataset = PytorchDataset(X=X_train, y=y_train)\n",
    "val_dataset = PytorchDataset(X=X_val, y=y_val)\n",
    "test_dataset = PytorchDataset(X=X_test, y=y_test)"
   ]
  },
  {
   "cell_type": "markdown",
   "id": "exclusive-permit",
   "metadata": {},
   "source": [
    "## Define Baseline Model"
   ]
  },
  {
   "cell_type": "code",
   "execution_count": 10,
   "id": "universal-mambo",
   "metadata": {},
   "outputs": [],
   "source": [
    "from src.models.null import NullModel\n",
    "\n",
    "baseline_model = NullModel(target_type = 'classification')\n",
    "y_base = baseline_model.fit_predict(y_train)"
   ]
  },
  {
   "cell_type": "code",
   "execution_count": 11,
   "id": "boxed-allowance",
   "metadata": {},
   "outputs": [
    {
     "name": "stdout",
     "output_type": "stream",
     "text": [
      "Accuracy Training: 0.07396902830563276\n",
      "F1 Training: 0.010189152581265001\n"
     ]
    }
   ],
   "source": [
    "from src.models.performance import print_class_perf\n",
    "print_class_perf(y_base, y_train, set_name='Training', average = 'weighted')"
   ]
  },
  {
   "cell_type": "markdown",
   "id": "nearby-rating",
   "metadata": {},
   "source": [
    "## Define Model Architecture\n",
    "\n",
    "Just want to get a basic 1 layer model working before I try and get anything deeper working"
   ]
  },
  {
   "cell_type": "code",
   "execution_count": 12,
   "id": "accessory-elite",
   "metadata": {},
   "outputs": [],
   "source": [
    "from src.models.pytorch import PytorchMultiClass\n",
    "\n",
    "model = PytorchMultiClass(num_features = X_train.shape[1],class_num= 104)"
   ]
  },
  {
   "cell_type": "code",
   "execution_count": 13,
   "id": "proper-circular",
   "metadata": {},
   "outputs": [],
   "source": [
    "class PytorchMultiClass(nn.Module):\n",
    "    def __init__(self, num_features,class_num):\n",
    "        super(PytorchMultiClass, self).__init__()\n",
    "        \n",
    "        self.layer_1 = nn.Linear(num_features, 104)\n",
    "        self.layer_out = nn.Linear(104,class_num)\n",
    "        self.softmax = nn.Softmax(dim=1)\n",
    "\n",
    "    def forward(self, x):\n",
    "        x = F.dropout(F.relu(self.layer_1(x)), training=self.training)\n",
    "        x = self.layer_out(x)\n",
    "        return self.softmax(x)\n",
    "    \n",
    "    \n",
    "model = PytorchMultiClass(num_features = X_train.shape[1],class_num= 104)"
   ]
  },
  {
   "cell_type": "code",
   "execution_count": 14,
   "id": "knowing-massachusetts",
   "metadata": {},
   "outputs": [
    {
     "name": "stdout",
     "output_type": "stream",
     "text": [
      "cpu\n"
     ]
    },
    {
     "data": {
      "text/plain": [
       "PytorchMultiClass(\n",
       "  (layer_1): Linear(in_features=2504, out_features=104, bias=True)\n",
       "  (layer_out): Linear(in_features=104, out_features=104, bias=True)\n",
       "  (softmax): Softmax(dim=1)\n",
       ")"
      ]
     },
     "execution_count": 14,
     "metadata": {},
     "output_type": "execute_result"
    }
   ],
   "source": [
    "from src.models.pytorch import get_device\n",
    "device = get_device()\n",
    "print(device)\n",
    "model.to(device)"
   ]
  },
  {
   "cell_type": "markdown",
   "id": "solar-shelf",
   "metadata": {},
   "source": [
    "## Train Model"
   ]
  },
  {
   "cell_type": "code",
   "execution_count": 15,
   "id": "figured-namibia",
   "metadata": {},
   "outputs": [],
   "source": [
    "N_EPOCHS = 30\n",
    "BATCH_SIZE = 10000\n",
    "criterion = nn.CrossEntropyLoss()\n",
    "optimizer = torch.optim.Adam(model.parameters(), lr=0.1)"
   ]
  },
  {
   "cell_type": "code",
   "execution_count": 16,
   "id": "active-allocation",
   "metadata": {},
   "outputs": [],
   "source": [
    "from src.models.train_model import train_classification, test_classification"
   ]
  },
  {
   "cell_type": "code",
   "execution_count": 17,
   "id": "owned-counter",
   "metadata": {},
   "outputs": [
    {
     "name": "stdout",
     "output_type": "stream",
     "text": [
      "Epoch: 0: |████████████████████████████████████████████████--| 97.9% Complete\n",
      "\t(train)\t|\tLoss: 0.0005\t|\tAcc: 12.6%\n",
      "\t(valid)\t|\tLoss: 0.0005\t|\tAcc: 16.1%\n",
      "Epoch: 1: |████████████████████████████████████████████████--| 97.9% Complete\n",
      "\t(train)\t|\tLoss: 0.0005\t|\tAcc: 18.8%\n",
      "\t(valid)\t|\tLoss: 0.0004\t|\tAcc: 22.4%\n",
      "Epoch: 2: |████████████████████████████████████████████████--| 97.9% Complete\n",
      "\t(train)\t|\tLoss: 0.0004\t|\tAcc: 22.2%\n",
      "\t(valid)\t|\tLoss: 0.0004\t|\tAcc: 23.0%\n",
      "Epoch: 3: |████████████████████████████████████████████████--| 97.9% Complete\n",
      "\t(train)\t|\tLoss: 0.0004\t|\tAcc: 22.7%\n",
      "\t(valid)\t|\tLoss: 0.0004\t|\tAcc: 23.2%\n",
      "Epoch: 4: |████████████████████████████████████████████████--| 97.9% Complete\n",
      "\t(train)\t|\tLoss: 0.0004\t|\tAcc: 23.0%\n",
      "\t(valid)\t|\tLoss: 0.0004\t|\tAcc: 23.4%\n",
      "Epoch: 5: |████████████████████████████████████████████████--| 97.9% Complete\n",
      "\t(train)\t|\tLoss: 0.0004\t|\tAcc: 23.1%\n",
      "\t(valid)\t|\tLoss: 0.0004\t|\tAcc: 23.4%\n",
      "Epoch: 6: |████████████████████████████████████████████████--| 97.9% Complete\n",
      "\t(train)\t|\tLoss: 0.0004\t|\tAcc: 23.2%\n",
      "\t(valid)\t|\tLoss: 0.0004\t|\tAcc: 23.6%\n",
      "Epoch: 7: |████████████████████████████████████████████████--| 97.9% Complete\n",
      "\t(train)\t|\tLoss: 0.0004\t|\tAcc: 23.3%\n",
      "\t(valid)\t|\tLoss: 0.0004\t|\tAcc: 23.6%\n",
      "Epoch: 8: |████████████████████████████████████████████████--| 97.9% Complete\n",
      "\t(train)\t|\tLoss: 0.0004\t|\tAcc: 23.4%\n",
      "\t(valid)\t|\tLoss: 0.0004\t|\tAcc: 23.6%\n",
      "Epoch: 9: |████████████████████████████████████████████████--| 97.9% Complete\n",
      "\t(train)\t|\tLoss: 0.0004\t|\tAcc: 23.3%\n",
      "\t(valid)\t|\tLoss: 0.0004\t|\tAcc: 23.7%\n",
      "Epoch: 10 |████████████████████████████████████████████████--| 97.9% Complete\n",
      "\t(train)\t|\tLoss: 0.0004\t|\tAcc: 23.4%\n",
      "\t(valid)\t|\tLoss: 0.0004\t|\tAcc: 23.7%\n",
      "Epoch: 11 |████████████████████████████████████████████████--| 97.9% Complete\n",
      "\t(train)\t|\tLoss: 0.0004\t|\tAcc: 23.5%\n",
      "\t(valid)\t|\tLoss: 0.0004\t|\tAcc: 23.7%\n",
      "Epoch: 12 |████████████████████████████████████████████████--| 97.9% Complete\n",
      "\t(train)\t|\tLoss: 0.0004\t|\tAcc: 23.5%\n",
      "\t(valid)\t|\tLoss: 0.0004\t|\tAcc: 23.7%\n",
      "Epoch: 13 |████████████████████████████████████████████████--| 97.9% Complete\n",
      "\t(train)\t|\tLoss: 0.0004\t|\tAcc: 23.5%\n",
      "\t(valid)\t|\tLoss: 0.0004\t|\tAcc: 23.8%\n",
      "Epoch: 14 |████████████████████████████████████████████████--| 97.9% Complete\n",
      "\t(train)\t|\tLoss: 0.0004\t|\tAcc: 23.5%\n",
      "\t(valid)\t|\tLoss: 0.0004\t|\tAcc: 23.8%\n",
      "Epoch: 15 |████████████████████████████████████████████████--| 97.9% Complete\n",
      "\t(train)\t|\tLoss: 0.0004\t|\tAcc: 23.6%\n",
      "\t(valid)\t|\tLoss: 0.0004\t|\tAcc: 23.8%\n",
      "Epoch: 16 |████████████████████████████████████████████████--| 97.9% Complete\n",
      "\t(train)\t|\tLoss: 0.0004\t|\tAcc: 23.6%\n",
      "\t(valid)\t|\tLoss: 0.0004\t|\tAcc: 23.7%\n",
      "Epoch: 17 |████████████████████████████████████████████████--| 97.9% Complete\n",
      "\t(train)\t|\tLoss: 0.0004\t|\tAcc: 23.5%\n",
      "\t(valid)\t|\tLoss: 0.0004\t|\tAcc: 23.8%\n",
      "Epoch: 18 |████████████████████████████████████████████████--| 97.9% Complete\n",
      "\t(train)\t|\tLoss: 0.0004\t|\tAcc: 23.5%\n",
      "\t(valid)\t|\tLoss: 0.0004\t|\tAcc: 23.8%\n",
      "Epoch: 19 |████████████████████████████████████████████████--| 97.9% Complete\n",
      "\t(train)\t|\tLoss: 0.0004\t|\tAcc: 23.6%\n",
      "\t(valid)\t|\tLoss: 0.0004\t|\tAcc: 23.9%\n",
      "Epoch: 20 |████████████████████████████████████████████████--| 97.9% Complete\n",
      "\t(train)\t|\tLoss: 0.0004\t|\tAcc: 23.6%\n",
      "\t(valid)\t|\tLoss: 0.0004\t|\tAcc: 23.9%\n",
      "Epoch: 21 |████████████████████████████████████████████████--| 97.9% Complete\n",
      "\t(train)\t|\tLoss: 0.0004\t|\tAcc: 23.6%\n",
      "\t(valid)\t|\tLoss: 0.0004\t|\tAcc: 23.9%\n",
      "Epoch: 22 |████████████████████████████████████████████████--| 97.9% Complete\n",
      "\t(train)\t|\tLoss: 0.0004\t|\tAcc: 23.5%\n",
      "\t(valid)\t|\tLoss: 0.0004\t|\tAcc: 23.8%\n",
      "Epoch: 23 |████████████████████████████████████████████████--| 97.9% Complete\n",
      "\t(train)\t|\tLoss: 0.0004\t|\tAcc: 23.6%\n",
      "\t(valid)\t|\tLoss: 0.0004\t|\tAcc: 23.8%\n",
      "Epoch: 24 |████████████████████████████████████████████████--| 97.9% Complete\n",
      "\t(train)\t|\tLoss: 0.0004\t|\tAcc: 23.6%\n",
      "\t(valid)\t|\tLoss: 0.0004\t|\tAcc: 23.9%\n",
      "Epoch: 25 |████████████████████████████████████████████████--| 97.9% Complete\n",
      "\t(train)\t|\tLoss: 0.0004\t|\tAcc: 23.6%\n",
      "\t(valid)\t|\tLoss: 0.0004\t|\tAcc: 23.9%\n",
      "Epoch: 26 |████████████████████████████████████████████████--| 97.9% Complete\n",
      "\t(train)\t|\tLoss: 0.0004\t|\tAcc: 23.7%\n",
      "\t(valid)\t|\tLoss: 0.0004\t|\tAcc: 23.9%\n",
      "Epoch: 27 |████████████████████████████████████████████████--| 97.9% Complete\n",
      "\t(train)\t|\tLoss: 0.0004\t|\tAcc: 23.7%\n",
      "\t(valid)\t|\tLoss: 0.0004\t|\tAcc: 23.9%\n",
      "Epoch: 28 |████████████████████████████████████████████████--| 97.9% Complete\n",
      "\t(train)\t|\tLoss: 0.0004\t|\tAcc: 23.6%\n",
      "\t(valid)\t|\tLoss: 0.0004\t|\tAcc: 23.8%\n",
      "Epoch: 29 |████████████████████████████████████████████████--| 97.9% Complete\n",
      "\t(train)\t|\tLoss: 0.0004\t|\tAcc: 23.6%\n",
      "\t(valid)\t|\tLoss: 0.0004\t|\tAcc: 23.9%\n"
     ]
    }
   ],
   "source": [
    "tr_losses = []\n",
    "val_losses = []\n",
    "tr_acc = []\n",
    "val_acc = []\n",
    "for epoch in range(N_EPOCHS):\n",
    "    train_loss, train_acc = train_classification(train_dataset, model=model, criterion=criterion, optimizer=optimizer, batch_size=BATCH_SIZE, device=device)\n",
    "    valid_loss, valid_acc = test_classification(val_dataset, model=model, criterion=criterion, batch_size=BATCH_SIZE, device=device)\n",
    "    tr_losses.append(train_loss)\n",
    "    val_losses.append(valid_loss)\n",
    "    tr_acc.append(train_acc)\n",
    "    val_acc.append(valid_acc)\n",
    "    print(f'Epoch: {epoch}')\n",
    "    print(f'\\t(train)\\t|\\tLoss: {train_loss:.4f}\\t|\\tAcc: {train_acc * 100:.1f}%')\n",
    "    print(f'\\t(valid)\\t|\\tLoss: {valid_loss:.4f}\\t|\\tAcc: {valid_acc * 100:.1f}%')"
   ]
  },
  {
   "cell_type": "code",
   "execution_count": 18,
   "id": "related-potato",
   "metadata": {},
   "outputs": [
    {
     "data": {
      "text/plain": [
       "<matplotlib.legend.Legend at 0x7fc48c5ba160>"
      ]
     },
     "execution_count": 18,
     "metadata": {},
     "output_type": "execute_result"
    },
    {
     "data": {
      "image/png": "[encoded data removed]",
      "text/plain": [
       "<Figure size 432x288 with 1 Axes>"
      ]
     },
     "metadata": {
      "needs_background": "light"
     },
     "output_type": "display_data"
    }
   ],
   "source": [
    "import matplotlib.pyplot as plt\n",
    "plt.plot(tr_losses, range(N_EPOCHS), label = \"Training Loss\")\n",
    "plt.plot(val_losses, range(N_EPOCHS), label = \"Validation Loss\")\n",
    "plt.title('Loss Function')\n",
    "plt.legend()"
   ]
  },
  {
   "cell_type": "code",
   "execution_count": 19,
   "id": "willing-american",
   "metadata": {},
   "outputs": [
    {
     "name": "stdout",
     "output_type": "stream",
     "text": [
      "Epoch: 0: |████████████████████████████████████████████████--| 97.9% Complete\n",
      "\t(train)\t|\tLoss: 0.0004\t|\tAcc: 23.7%\n",
      "\t(valid)\t|\tLoss: 0.0004\t|\tAcc: 23.9%\n",
      "Epoch: 1: |████████████████████████████████████████████████--| 97.9% Complete\n",
      "\t(train)\t|\tLoss: 0.0004\t|\tAcc: 23.7%\n",
      "\t(valid)\t|\tLoss: 0.0004\t|\tAcc: 23.9%\n",
      "Epoch: 2: |████████████████████████████████████████████████--| 97.9% Complete\n",
      "\t(train)\t|\tLoss: 0.0004\t|\tAcc: 23.7%\n",
      "\t(valid)\t|\tLoss: 0.0004\t|\tAcc: 23.9%\n",
      "Epoch: 3: |████████████████████████████████████████████████--| 97.9% Complete\n",
      "\t(train)\t|\tLoss: 0.0004\t|\tAcc: 23.7%\n",
      "\t(valid)\t|\tLoss: 0.0004\t|\tAcc: 24.0%\n",
      "Epoch: 4: |████████████████████████████████████████████████--| 97.9% Complete\n",
      "\t(train)\t|\tLoss: 0.0004\t|\tAcc: 23.7%\n",
      "\t(valid)\t|\tLoss: 0.0004\t|\tAcc: 23.9%\n",
      "Epoch: 5: |████████████████████████████████████████████████--| 97.9% Complete\n",
      "\t(train)\t|\tLoss: 0.0004\t|\tAcc: 23.7%\n",
      "\t(valid)\t|\tLoss: 0.0004\t|\tAcc: 23.9%\n",
      "Epoch: 6: |████████████████████████████████████████████████--| 97.9% Complete\n",
      "\t(train)\t|\tLoss: 0.0004\t|\tAcc: 23.7%\n",
      "\t(valid)\t|\tLoss: 0.0004\t|\tAcc: 24.0%\n",
      "Epoch: 7: |████████████████████████████████████████████████--| 97.9% Complete\n",
      "\t(train)\t|\tLoss: 0.0004\t|\tAcc: 23.7%\n",
      "\t(valid)\t|\tLoss: 0.0004\t|\tAcc: 23.8%\n",
      "Epoch: 8: |████████████████████████████████████████████████--| 97.9% Complete\n",
      "\t(train)\t|\tLoss: 0.0004\t|\tAcc: 23.6%\n",
      "\t(valid)\t|\tLoss: 0.0004\t|\tAcc: 23.9%\n",
      "Epoch: 9: |████████████████████████████████████████████████--| 97.9% Complete\n",
      "\t(train)\t|\tLoss: 0.0004\t|\tAcc: 23.7%\n",
      "\t(valid)\t|\tLoss: 0.0004\t|\tAcc: 24.0%\n",
      "Epoch: 10 |████████████████████████████████████████████████--| 97.9% Complete\n",
      "\t(train)\t|\tLoss: 0.0004\t|\tAcc: 23.7%\n",
      "\t(valid)\t|\tLoss: 0.0004\t|\tAcc: 24.0%\n",
      "Epoch: 11 |████████████████████████████████████████████████--| 97.9% Complete\n",
      "\t(train)\t|\tLoss: 0.0004\t|\tAcc: 23.7%\n",
      "\t(valid)\t|\tLoss: 0.0004\t|\tAcc: 24.0%\n",
      "Epoch: 12 |████████████████████████████████████████████████--| 97.9% Complete\n",
      "\t(train)\t|\tLoss: 0.0004\t|\tAcc: 23.7%\n",
      "\t(valid)\t|\tLoss: 0.0004\t|\tAcc: 24.0%\n",
      "Epoch: 13 |████████████████████████████████████████████████--| 97.9% Complete\n",
      "\t(train)\t|\tLoss: 0.0004\t|\tAcc: 23.7%\n",
      "\t(valid)\t|\tLoss: 0.0004\t|\tAcc: 24.0%\n",
      "Epoch: 14 |████████████████████████████████████████████████--| 97.9% Complete\n",
      "\t(train)\t|\tLoss: 0.0004\t|\tAcc: 23.8%\n",
      "\t(valid)\t|\tLoss: 0.0004\t|\tAcc: 24.0%\n",
      "Epoch: 15 |████████████████████████████████████████████████--| 97.9% Complete\n",
      "\t(train)\t|\tLoss: 0.0004\t|\tAcc: 23.7%\n",
      "\t(valid)\t|\tLoss: 0.0004\t|\tAcc: 23.9%\n",
      "Epoch: 16 |████████████████████████████████████████████████--| 97.9% Complete\n",
      "\t(train)\t|\tLoss: 0.0004\t|\tAcc: 23.7%\n",
      "\t(valid)\t|\tLoss: 0.0004\t|\tAcc: 23.9%\n",
      "Epoch: 17 |████████████████████████████████████████████████--| 97.9% Complete\n",
      "\t(train)\t|\tLoss: 0.0004\t|\tAcc: 23.8%\n",
      "\t(valid)\t|\tLoss: 0.0004\t|\tAcc: 24.0%\n",
      "Epoch: 18 |████████████████████████████████████████████████--| 97.9% Complete\n",
      "\t(train)\t|\tLoss: 0.0004\t|\tAcc: 23.7%\n",
      "\t(valid)\t|\tLoss: 0.0004\t|\tAcc: 24.1%\n",
      "Epoch: 19 |████████████████████████████████████████████████--| 97.9% Complete\n",
      "\t(train)\t|\tLoss: 0.0004\t|\tAcc: 23.7%\n",
      "\t(valid)\t|\tLoss: 0.0004\t|\tAcc: 24.0%\n",
      "Epoch: 20 |████████████████████████████████████████████████--| 97.9% Complete\n",
      "\t(train)\t|\tLoss: 0.0004\t|\tAcc: 23.7%\n",
      "\t(valid)\t|\tLoss: 0.0004\t|\tAcc: 24.0%\n",
      "Epoch: 21 |████████████████████████████████████████████████--| 97.9% Complete\n",
      "\t(train)\t|\tLoss: 0.0004\t|\tAcc: 23.8%\n",
      "\t(valid)\t|\tLoss: 0.0004\t|\tAcc: 24.1%\n",
      "Epoch: 22 |████████████████████████████████████████████████--| 97.9% Complete\n",
      "\t(train)\t|\tLoss: 0.0004\t|\tAcc: 23.7%\n",
      "\t(valid)\t|\tLoss: 0.0004\t|\tAcc: 24.1%\n",
      "Epoch: 23 |████████████████████████████████████████████████--| 97.9% Complete\n",
      "\t(train)\t|\tLoss: 0.0004\t|\tAcc: 23.7%\n",
      "\t(valid)\t|\tLoss: 0.0004\t|\tAcc: 24.1%\n",
      "Epoch: 24 |████████████████████████████████████████████████--| 97.9% Complete\n",
      "\t(train)\t|\tLoss: 0.0004\t|\tAcc: 23.9%\n",
      "\t(valid)\t|\tLoss: 0.0004\t|\tAcc: 24.2%\n",
      "Epoch: 25 |████████████████████████████████████████████████--| 97.9% Complete\n",
      "\t(train)\t|\tLoss: 0.0004\t|\tAcc: 23.9%\n",
      "\t(valid)\t|\tLoss: 0.0004\t|\tAcc: 24.2%\n",
      "Epoch: 26 |████████████████████████████████████████████████--| 97.9% Complete\n",
      "\t(train)\t|\tLoss: 0.0004\t|\tAcc: 23.9%\n",
      "\t(valid)\t|\tLoss: 0.0004\t|\tAcc: 24.2%\n",
      "Epoch: 27 |████████████████████████████████████████████████--| 97.9% Complete\n",
      "\t(train)\t|\tLoss: 0.0004\t|\tAcc: 23.8%\n",
      "\t(valid)\t|\tLoss: 0.0004\t|\tAcc: 24.1%\n",
      "Epoch: 28 |████████████████████████████████████████████████--| 97.9% Complete\n",
      "\t(train)\t|\tLoss: 0.0004\t|\tAcc: 23.8%\n",
      "\t(valid)\t|\tLoss: 0.0004\t|\tAcc: 24.2%\n",
      "Epoch: 29 |████████████████████████████████████████████████--| 97.9% Complete\n",
      "\t(train)\t|\tLoss: 0.0004\t|\tAcc: 23.9%\n",
      "\t(valid)\t|\tLoss: 0.0004\t|\tAcc: 24.2%\n"
     ]
    }
   ],
   "source": [
    "optimizer = torch.optim.Adam(model.parameters(), lr=0.1)\n",
    "for epoch in range(N_EPOCHS):\n",
    "    train_loss, train_acc = train_classification(train_dataset, model=model, criterion=criterion, optimizer=optimizer, batch_size=BATCH_SIZE, device=device)\n",
    "    valid_loss, valid_acc = test_classification(val_dataset, model=model, criterion=criterion, batch_size=BATCH_SIZE, device=device)\n",
    "    tr_losses.append(train_loss)\n",
    "    val_losses.append(valid_loss)\n",
    "    tr_acc.append(train_acc)\n",
    "    val_acc.append(valid_acc)\n",
    "    print(f'Epoch: {epoch}')\n",
    "    print(f'\\t(train)\\t|\\tLoss: {train_loss:.4f}\\t|\\tAcc: {train_acc * 100:.1f}%')\n",
    "    print(f'\\t(valid)\\t|\\tLoss: {valid_loss:.4f}\\t|\\tAcc: {valid_acc * 100:.1f}%')"
   ]
  },
  {
   "cell_type": "code",
   "execution_count": 20,
   "id": "entertaining-stick",
   "metadata": {},
   "outputs": [
    {
     "data": {
      "text/plain": [
       "<matplotlib.legend.Legend at 0x7fc4684307f0>"
      ]
     },
     "execution_count": 20,
     "metadata": {},
     "output_type": "execute_result"
    },
    {
     "data": {
      "image/png": "[encoded data removed]",
      "text/plain": [
       "<Figure size 432x288 with 1 Axes>"
      ]
     },
     "metadata": {
      "needs_background": "light"
     },
     "output_type": "display_data"
    }
   ],
   "source": [
    "plt.plot(tr_losses, range(60), label = \"Training Loss\")\n",
    "plt.plot(val_losses, range(60), label = \"Validation Loss\")\n",
    "plt.title('Loss Function')\n",
    "plt.legend()"
   ]
  },
  {
   "cell_type": "code",
   "execution_count": 21,
   "id": "inclusive-alberta",
   "metadata": {},
   "outputs": [],
   "source": [
    "\n",
    "def predict(test_data, model, criterion, batch_size, device, generate_batch=None):\n",
    "    \"\"\"Calculate performance of a Pytorch multi-class classification model\n",
    "\n",
    "    Parameters\n",
    "    ----------\n",
    "    test_data : torch.utils.data.Dataset\n",
    "        Pytorch dataset\n",
    "    model: torch.nn.Module\n",
    "        Pytorch Model\n",
    "    criterion: function\n",
    "        Loss function\n",
    "    bacth_size : int\n",
    "        Number of observations per batch\n",
    "    device : str\n",
    "        Name of the device used for the model\n",
    "    collate_fn : function\n",
    "        Function defining required pre-processing steps\n",
    "\n",
    "    Returns\n",
    "    -------\n",
    "    Float\n",
    "        Loss score\n",
    "    Float:\n",
    "        Accuracy Score\n",
    "    \"\"\"    \n",
    "    \n",
    "    # Set model to evaluation mode\n",
    "    model.eval()\n",
    "    test_loss = 0\n",
    "    test_acc = 0\n",
    "    \n",
    "    # Create data loader\n",
    "    data = DataLoader(test_data, batch_size=batch_size, collate_fn=generate_batch)\n",
    "    results = []\n",
    "    # Iterate through data by batch of observations\n",
    "    for feature, target_class in data:\n",
    "        \n",
    "        feature, target_class = feature.to(device), target_class.flatten().to(device)\n",
    "        \n",
    "        # Set no update to gradients\n",
    "        with torch.no_grad():\n",
    "            # Make predictions\n",
    "            output = model(feature)\n",
    "            \n",
    "        results.append({'prediction': output.argmax(1)[0],'target': target_class[0] })\n",
    "    return results"
   ]
  },
  {
   "cell_type": "code",
   "execution_count": 22,
   "id": "beautiful-people",
   "metadata": {},
   "outputs": [],
   "source": [
    "test_predictions = predict(test_dataset, model=model, criterion=criterion, batch_size=1, device=device)"
   ]
  },
  {
   "cell_type": "code",
   "execution_count": 23,
   "id": "muslim-proceeding",
   "metadata": {},
   "outputs": [],
   "source": [
    "test_predictions = pd.DataFrame(test_predictions)"
   ]
  },
  {
   "cell_type": "code",
   "execution_count": 24,
   "id": "transparent-europe",
   "metadata": {},
   "outputs": [
    {
     "data": {
      "text/html": [
       "<div>\n",
       "<style scoped>\n",
       "    .dataframe tbody tr th:only-of-type {\n",
       "        vertical-align: middle;\n",
       "    }\n",
       "\n",
       "    .dataframe tbody tr th {\n",
       "        vertical-align: top;\n",
       "    }\n",
       "\n",
       "    .dataframe thead th {\n",
       "        text-align: right;\n",
       "    }\n",
       "</style>\n",
       "<table border=\"1\" class=\"dataframe\">\n",
       "  <thead>\n",
       "    <tr style=\"text-align: right;\">\n",
       "      <th></th>\n",
       "      <th>prediction</th>\n",
       "      <th>target</th>\n",
       "    </tr>\n",
       "  </thead>\n",
       "  <tbody>\n",
       "    <tr>\n",
       "      <th>0</th>\n",
       "      <td>tensor(12)</td>\n",
       "      <td>tensor(101.)</td>\n",
       "    </tr>\n",
       "    <tr>\n",
       "      <th>1</th>\n",
       "      <td>tensor(12)</td>\n",
       "      <td>tensor(12.)</td>\n",
       "    </tr>\n",
       "    <tr>\n",
       "      <th>2</th>\n",
       "      <td>tensor(89)</td>\n",
       "      <td>tensor(89.)</td>\n",
       "    </tr>\n",
       "    <tr>\n",
       "      <th>3</th>\n",
       "      <td>tensor(11)</td>\n",
       "      <td>tensor(84.)</td>\n",
       "    </tr>\n",
       "  </tbody>\n",
       "</table>\n",
       "</div>"
      ],
      "text/plain": [
       "   prediction        target\n",
       "0  tensor(12)  tensor(101.)\n",
       "1  tensor(12)   tensor(12.)\n",
       "2  tensor(89)   tensor(89.)\n",
       "3  tensor(11)   tensor(84.)"
      ]
     },
     "execution_count": 24,
     "metadata": {},
     "output_type": "execute_result"
    }
   ],
   "source": [
    "test_predictions.head(4)"
   ]
  },
  {
   "cell_type": "code",
   "execution_count": 25,
   "id": "charged-polish",
   "metadata": {},
   "outputs": [],
   "source": [
    "from sklearn.metrics import confusion_matrix"
   ]
  },
  {
   "cell_type": "code",
   "execution_count": 26,
   "id": "confused-drove",
   "metadata": {},
   "outputs": [],
   "source": [
    "pd.DataFrame(confusion_matrix(test_predictions['prediction'].astype(int), test_predictions['target'].astype(int))).to_csv('reports/confusion_matrix.csv')"
   ]
  },
  {
   "cell_type": "code",
   "execution_count": 27,
   "id": "orange-lover",
   "metadata": {},
   "outputs": [
    {
     "name": "stdout",
     "output_type": "stream",
     "text": [
      "Accuracy: 23.722756551663284%\n"
     ]
    }
   ],
   "source": [
    "acc = 100*sum(np.where(test_predictions[\"prediction\"]==test_predictions[\"target\"],1,0))/len(test_predictions)\n",
    "print(\"Accuracy: \"+str(acc)+\"%\")"
   ]
  },
  {
   "cell_type": "markdown",
   "id": "portuguese-treasure",
   "metadata": {},
   "source": [
    "## Save Model"
   ]
  },
  {
   "cell_type": "code",
   "execution_count": 28,
   "id": "consecutive-proof",
   "metadata": {},
   "outputs": [],
   "source": [
    "import pickle as pkl\n",
    "\n",
    "pkl.dump(ohe, open('models/ohe.pkl', 'wb'))\n",
    "pkl.dump(y_encoder, open('models/y_encoder.pkl', 'wb'))\n",
    "pkl.dump(scaler, open('models/scaler.pkl', 'wb'))\n",
    "\n",
    "torch.save(model.state_dict(), \"models/beer_style_prediction.pt\")"
   ]
  },
  {
   "cell_type": "code",
   "execution_count": null,
   "id": "entitled-brunswick",
   "metadata": {},
   "outputs": [],
   "source": []
  }
 ],
 "metadata": {
  "kernelspec": {
   "display_name": "Python 3",
   "language": "python",
   "name": "python3"
  },
  "language_info": {
   "codemirror_mode": {
    "name": "ipython",
    "version": 3
   },
   "file_extension": ".py",
   "mimetype": "text/x-python",
   "name": "python",
   "nbconvert_exporter": "python",
   "pygments_lexer": "ipython3",
   "version": "3.8.8"
  }
 },
 "nbformat": 4,
 "nbformat_minor": 5
}
