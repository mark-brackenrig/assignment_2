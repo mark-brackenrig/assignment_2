{
 "cells": [
  {
   "cell_type": "code",
   "execution_count": 2,
   "id": "broad-saying",
   "metadata": {},
   "outputs": [],
   "source": [
    "## Build Data set\n",
    "import pandas as pd\n",
    "import numpy as np\n",
    "from sklearn.preprocessing import StandardScaler, OneHotEncoder, LabelEncoder\n",
    "from sklearn.model_selection import train_test_split\n",
    "import torch\n",
    "import torch.nn as nn\n",
    "import torch.nn.functional as F\n",
    "import os\n",
    "from torch.utils.data import DataLoader\n",
    "import torch.nn.functional as F\n"
   ]
  },
  {
   "cell_type": "code",
   "execution_count": 3,
   "id": "infrared-french",
   "metadata": {},
   "outputs": [
    {
     "data": {
      "text/plain": [
       "'/Users/markbrackenrig/Documents/2021_FEB/ADSI/assignment_2'"
      ]
     },
     "execution_count": 3,
     "metadata": {},
     "output_type": "execute_result"
    }
   ],
   "source": [
    "os.chdir('../')\n",
    "os.getcwd()"
   ]
  },
  {
   "cell_type": "code",
   "execution_count": 4,
   "id": "unlimited-photographer",
   "metadata": {},
   "outputs": [],
   "source": [
    "from src.data import make_dataset"
   ]
  },
  {
   "cell_type": "code",
   "execution_count": 5,
   "id": "transparent-amplifier",
   "metadata": {},
   "outputs": [],
   "source": [
    "data = pd.read_csv('data/raw/beer_reviews.csv')\n",
    "subsample = data.sample(frac=0.8)"
   ]
  },
  {
   "cell_type": "code",
   "execution_count": 6,
   "id": "featured-cooperation",
   "metadata": {},
   "outputs": [
    {
     "name": "stdout",
     "output_type": "stream",
     "text": [
      "columns dropped\n",
      "brewery names encoded\n",
      "scaled data\n"
     ]
    }
   ],
   "source": [
    "X,y,y_encoder,ohe,scaler = make_dataset.process_data(subsample)"
   ]
  },
  {
   "cell_type": "code",
   "execution_count": 7,
   "id": "asian-essence",
   "metadata": {},
   "outputs": [
    {
     "data": {
      "text/html": [
       "<div>\n",
       "<style scoped>\n",
       "    .dataframe tbody tr th:only-of-type {\n",
       "        vertical-align: middle;\n",
       "    }\n",
       "\n",
       "    .dataframe tbody tr th {\n",
       "        vertical-align: top;\n",
       "    }\n",
       "\n",
       "    .dataframe thead th {\n",
       "        text-align: right;\n",
       "    }\n",
       "</style>\n",
       "<table border=\"1\" class=\"dataframe\">\n",
       "  <thead>\n",
       "    <tr style=\"text-align: right;\">\n",
       "      <th></th>\n",
       "      <th>review_aroma</th>\n",
       "      <th>review_appearance</th>\n",
       "      <th>beer_style</th>\n",
       "      <th>review_palate</th>\n",
       "      <th>review_taste</th>\n",
       "    </tr>\n",
       "  </thead>\n",
       "  <tbody>\n",
       "    <tr>\n",
       "      <th>512711</th>\n",
       "      <td>2.5</td>\n",
       "      <td>3.0</td>\n",
       "      <td>Irish Red Ale</td>\n",
       "      <td>3.0</td>\n",
       "      <td>3.5</td>\n",
       "    </tr>\n",
       "    <tr>\n",
       "      <th>827799</th>\n",
       "      <td>3.5</td>\n",
       "      <td>4.0</td>\n",
       "      <td>Eisbock</td>\n",
       "      <td>4.0</td>\n",
       "      <td>4.0</td>\n",
       "    </tr>\n",
       "    <tr>\n",
       "      <th>415174</th>\n",
       "      <td>4.0</td>\n",
       "      <td>4.0</td>\n",
       "      <td>Russian Imperial Stout</td>\n",
       "      <td>3.5</td>\n",
       "      <td>4.0</td>\n",
       "    </tr>\n",
       "    <tr>\n",
       "      <th>1577861</th>\n",
       "      <td>4.5</td>\n",
       "      <td>4.0</td>\n",
       "      <td>American IPA</td>\n",
       "      <td>4.5</td>\n",
       "      <td>4.0</td>\n",
       "    </tr>\n",
       "    <tr>\n",
       "      <th>352001</th>\n",
       "      <td>3.0</td>\n",
       "      <td>3.0</td>\n",
       "      <td>Witbier</td>\n",
       "      <td>3.0</td>\n",
       "      <td>3.0</td>\n",
       "    </tr>\n",
       "  </tbody>\n",
       "</table>\n",
       "</div>"
      ],
      "text/plain": [
       "         review_aroma  review_appearance              beer_style  \\\n",
       "512711            2.5                3.0           Irish Red Ale   \n",
       "827799            3.5                4.0                 Eisbock   \n",
       "415174            4.0                4.0  Russian Imperial Stout   \n",
       "1577861           4.5                4.0            American IPA   \n",
       "352001            3.0                3.0                 Witbier   \n",
       "\n",
       "         review_palate  review_taste  \n",
       "512711             3.0           3.5  \n",
       "827799             4.0           4.0  \n",
       "415174             3.5           4.0  \n",
       "1577861            4.5           4.0  \n",
       "352001             3.0           3.0  "
      ]
     },
     "execution_count": 7,
     "metadata": {},
     "output_type": "execute_result"
    }
   ],
   "source": [
    "subsample.head(5)"
   ]
  },
  {
   "cell_type": "code",
   "execution_count": 8,
   "id": "written-massachusetts",
   "metadata": {},
   "outputs": [],
   "source": [
    "import pickle as pkl\n",
    "\n",
    "pkl.dump(ohe, open('models/ohe.pkl', 'wb'))\n",
    "pkl.dump(y_encoder, open('models/y_encoder.pkl', 'wb'))\n",
    "pkl.dump(scaler, open('models/scaler.pkl', 'wb'))\n"
   ]
  },
  {
   "cell_type": "markdown",
   "id": "communist-nirvana",
   "metadata": {},
   "source": [
    "## Split into training and test sets"
   ]
  },
  {
   "cell_type": "code",
   "execution_count": 9,
   "id": "liked-bicycle",
   "metadata": {},
   "outputs": [],
   "source": [
    "X_train, X_test, y_train, y_test = train_test_split(X,y, test_size = 0.2, random_state = 42)"
   ]
  },
  {
   "cell_type": "code",
   "execution_count": 10,
   "id": "reasonable-interaction",
   "metadata": {},
   "outputs": [],
   "source": [
    "X_train, X_val, y_train, y_val = train_test_split(X_train,y_train, test_size = 0.25, random_state = 42)"
   ]
  },
  {
   "cell_type": "code",
   "execution_count": 11,
   "id": "addressed-membrane",
   "metadata": {},
   "outputs": [],
   "source": [
    "from src.models.pytorch import PytorchDataset\n",
    "\n",
    "train_dataset = PytorchDataset(X=X_train, y=y_train)\n",
    "val_dataset = PytorchDataset(X=X_val, y=y_val)\n",
    "test_dataset = PytorchDataset(X=X_test, y=y_test)"
   ]
  },
  {
   "cell_type": "markdown",
   "id": "parallel-devon",
   "metadata": {},
   "source": [
    "## Define Baseline Model"
   ]
  },
  {
   "cell_type": "code",
   "execution_count": 12,
   "id": "unable-salem",
   "metadata": {},
   "outputs": [],
   "source": [
    "from src.models.null import NullModel\n",
    "\n",
    "baseline_model = NullModel(target_type = 'classification')\n",
    "y_base = baseline_model.fit_predict(y_train)"
   ]
  },
  {
   "cell_type": "code",
   "execution_count": 13,
   "id": "atomic-seminar",
   "metadata": {},
   "outputs": [
    {
     "name": "stdout",
     "output_type": "stream",
     "text": [
      "Accuracy Training: 0.07398624427829732\n",
      "F1 Training: 0.010193732688050032\n"
     ]
    }
   ],
   "source": [
    "from src.models.performance import print_class_perf\n",
    "print_class_perf(y_base, y_train, set_name='Training', average = 'weighted')"
   ]
  },
  {
   "cell_type": "markdown",
   "id": "concerned-hardware",
   "metadata": {},
   "source": [
    "## Define Model Architecture\n",
    "\n",
    "Just want to get a basic 1 layer model working before I try and get anything deeper working"
   ]
  },
  {
   "cell_type": "code",
   "execution_count": 14,
   "id": "defined-charger",
   "metadata": {},
   "outputs": [],
   "source": [
    "from src.models.pytorch import PytorchMultiClass\n",
    "\n",
    "model = PytorchMultiClass(num_features = X_train.shape[1],class_num= 104)"
   ]
  },
  {
   "cell_type": "code",
   "execution_count": 51,
   "id": "starting-chicken",
   "metadata": {},
   "outputs": [],
   "source": [
    "class PytorchMultiClass(nn.Module):\n",
    "    def __init__(self, num_features,class_num):\n",
    "        super(PytorchMultiClass, self).__init__()\n",
    "        \n",
    "        self.layer_1 = nn.Linear(num_features, 104)\n",
    "        self.layer_out = nn.Linear(104,class_num)\n",
    "        self.softmax = nn.Softmax(dim=1)\n",
    "\n",
    "    def forward(self, x):\n",
    "        x = F.dropout(F.relu(self.layer_1(x)), training=self.training)\n",
    "        x = self.layer_out(x)\n",
    "        return self.softmax(x)\n",
    "    \n",
    "    \n",
    "model = PytorchMultiClass(num_features = X_train.shape[1],class_num= 104)"
   ]
  },
  {
   "cell_type": "code",
   "execution_count": 52,
   "id": "legendary-involvement",
   "metadata": {},
   "outputs": [
    {
     "name": "stdout",
     "output_type": "stream",
     "text": [
      "cpu\n"
     ]
    },
    {
     "data": {
      "text/plain": [
       "PytorchMultiClass(\n",
       "  (layer_1): Linear(in_features=1004, out_features=104, bias=True)\n",
       "  (layer_out): Linear(in_features=104, out_features=104, bias=True)\n",
       "  (softmax): Softmax(dim=1)\n",
       ")"
      ]
     },
     "execution_count": 52,
     "metadata": {},
     "output_type": "execute_result"
    }
   ],
   "source": [
    "from src.models.pytorch import get_device\n",
    "device = get_device()\n",
    "print(device)\n",
    "model.to(device)"
   ]
  },
  {
   "cell_type": "markdown",
   "id": "resistant-cancellation",
   "metadata": {},
   "source": [
    "## Train Model"
   ]
  },
  {
   "cell_type": "code",
   "execution_count": 53,
   "id": "chubby-parker",
   "metadata": {},
   "outputs": [],
   "source": [
    "N_EPOCHS = 30\n",
    "BATCH_SIZE = 10000\n",
    "criterion = nn.CrossEntropyLoss()\n",
    "optimizer = torch.optim.Adam(model.parameters(), lr=0.1)"
   ]
  },
  {
   "cell_type": "code",
   "execution_count": 54,
   "id": "documentary-perth",
   "metadata": {},
   "outputs": [],
   "source": [
    "from src.models.train_model import train_classification, test_classification"
   ]
  },
  {
   "cell_type": "code",
   "execution_count": 55,
   "id": "beginning-energy",
   "metadata": {},
   "outputs": [
    {
     "name": "stdout",
     "output_type": "stream",
     "text": [
      "Epoch: 0: |█████████████████████████████████████████████████-| 98.7% Complete\n",
      "\t(train)\t|\tLoss: 0.0005\t|\tAcc: 14.0%\n",
      "\t(valid)\t|\tLoss: 0.0005\t|\tAcc: 17.4%\n",
      "Epoch: 1: |█████████████████████████████████████████████████-| 98.7% Complete\n",
      "\t(train)\t|\tLoss: 0.0005\t|\tAcc: 18.7%\n",
      "\t(valid)\t|\tLoss: 0.0005\t|\tAcc: 20.5%\n",
      "Epoch: 2: |█████████████████████████████████████████████████-| 98.7% Complete\n",
      "\t(train)\t|\tLoss: 0.0005\t|\tAcc: 20.3%\n",
      "\t(valid)\t|\tLoss: 0.0005\t|\tAcc: 20.5%\n",
      "Epoch: 3: |█████████████████████████████████████████████████-| 98.7% Complete\n",
      "\t(train)\t|\tLoss: 0.0005\t|\tAcc: 20.4%\n",
      "\t(valid)\t|\tLoss: 0.0005\t|\tAcc: 20.7%\n",
      "Epoch: 4: |█████████████████████████████████████████████████-| 98.7% Complete\n",
      "\t(train)\t|\tLoss: 0.0005\t|\tAcc: 20.5%\n",
      "\t(valid)\t|\tLoss: 0.0005\t|\tAcc: 20.8%\n",
      "Epoch: 5: |█████████████████████████████████████████████████-| 98.7% Complete\n",
      "\t(train)\t|\tLoss: 0.0005\t|\tAcc: 20.6%\n",
      "\t(valid)\t|\tLoss: 0.0005\t|\tAcc: 20.9%\n",
      "Epoch: 6: |█████████████████████████████████████████████████-| 98.7% Complete\n",
      "\t(train)\t|\tLoss: 0.0005\t|\tAcc: 20.7%\n",
      "\t(valid)\t|\tLoss: 0.0005\t|\tAcc: 20.8%\n",
      "Epoch: 7: |█████████████████████████████████████████████████-| 98.7% Complete\n",
      "\t(train)\t|\tLoss: 0.0005\t|\tAcc: 20.6%\n",
      "\t(valid)\t|\tLoss: 0.0005\t|\tAcc: 20.8%\n",
      "Epoch: 8: |█████████████████████████████████████████████████-| 98.7% Complete\n",
      "\t(train)\t|\tLoss: 0.0005\t|\tAcc: 20.6%\n",
      "\t(valid)\t|\tLoss: 0.0005\t|\tAcc: 20.9%\n",
      "Epoch: 9: |█████████████████████████████████████████████████-| 98.7% Complete\n",
      "\t(train)\t|\tLoss: 0.0005\t|\tAcc: 20.7%\n",
      "\t(valid)\t|\tLoss: 0.0005\t|\tAcc: 20.9%\n",
      "Epoch: 10 |█████████████████████████████████████████████████-| 98.7% Complete\n",
      "\t(train)\t|\tLoss: 0.0005\t|\tAcc: 20.7%\n",
      "\t(valid)\t|\tLoss: 0.0005\t|\tAcc: 20.9%\n",
      "Epoch: 11 |█████████████████████████████████████████████████-| 98.7% Complete\n",
      "\t(train)\t|\tLoss: 0.0005\t|\tAcc: 20.7%\n",
      "\t(valid)\t|\tLoss: 0.0005\t|\tAcc: 20.9%\n",
      "Epoch: 12 |█████████████████████████████████████████████████-| 98.7% Complete\n",
      "\t(train)\t|\tLoss: 0.0005\t|\tAcc: 20.7%\n",
      "\t(valid)\t|\tLoss: 0.0005\t|\tAcc: 20.9%\n",
      "Epoch: 13 |█████████████████████████████████████████████████-| 98.7% Complete\n",
      "\t(train)\t|\tLoss: 0.0005\t|\tAcc: 20.7%\n",
      "\t(valid)\t|\tLoss: 0.0005\t|\tAcc: 20.9%\n",
      "Epoch: 14 |█████████████████████████████████████████████████-| 98.7% Complete\n",
      "\t(train)\t|\tLoss: 0.0005\t|\tAcc: 20.8%\n",
      "\t(valid)\t|\tLoss: 0.0005\t|\tAcc: 20.9%\n",
      "Epoch: 15 |█████████████████████████████████████████████████-| 98.7% Complete\n",
      "\t(train)\t|\tLoss: 0.0005\t|\tAcc: 20.8%\n",
      "\t(valid)\t|\tLoss: 0.0005\t|\tAcc: 21.0%\n",
      "Epoch: 16 |█████████████████████████████████████████████████-| 98.7% Complete\n",
      "\t(train)\t|\tLoss: 0.0005\t|\tAcc: 20.8%\n",
      "\t(valid)\t|\tLoss: 0.0005\t|\tAcc: 20.9%\n",
      "Epoch: 17 |█████████████████████████████████████████████████-| 98.7% Complete\n",
      "\t(train)\t|\tLoss: 0.0005\t|\tAcc: 20.8%\n",
      "\t(valid)\t|\tLoss: 0.0005\t|\tAcc: 21.0%\n",
      "Epoch: 18 |█████████████████████████████████████████████████-| 98.7% Complete\n",
      "\t(train)\t|\tLoss: 0.0005\t|\tAcc: 20.9%\n",
      "\t(valid)\t|\tLoss: 0.0005\t|\tAcc: 21.0%\n",
      "Epoch: 19 |█████████████████████████████████████████████████-| 98.7% Complete\n",
      "\t(train)\t|\tLoss: 0.0005\t|\tAcc: 20.7%\n",
      "\t(valid)\t|\tLoss: 0.0005\t|\tAcc: 21.0%\n",
      "Epoch: 20 |█████████████████████████████████████████████████-| 98.7% Complete\n",
      "\t(train)\t|\tLoss: 0.0005\t|\tAcc: 20.8%\n",
      "\t(valid)\t|\tLoss: 0.0005\t|\tAcc: 21.0%\n",
      "Epoch: 21 |█████████████████████████████████████████████████-| 98.7% Complete\n",
      "\t(train)\t|\tLoss: 0.0005\t|\tAcc: 20.8%\n",
      "\t(valid)\t|\tLoss: 0.0005\t|\tAcc: 21.0%\n",
      "Epoch: 22 |█████████████████████████████████████████████████-| 98.7% Complete\n",
      "\t(train)\t|\tLoss: 0.0005\t|\tAcc: 20.8%\n",
      "\t(valid)\t|\tLoss: 0.0005\t|\tAcc: 21.0%\n",
      "Epoch: 23 |█████████████████████████████████████████████████-| 98.7% Complete\n",
      "\t(train)\t|\tLoss: 0.0005\t|\tAcc: 20.9%\n",
      "\t(valid)\t|\tLoss: 0.0005\t|\tAcc: 21.0%\n",
      "Epoch: 24 |█████████████████████████████████████████████████-| 98.7% Complete\n",
      "\t(train)\t|\tLoss: 0.0005\t|\tAcc: 20.9%\n",
      "\t(valid)\t|\tLoss: 0.0005\t|\tAcc: 21.0%\n",
      "Epoch: 25 |█████████████████████████████████████████████████-| 98.7% Complete\n",
      "\t(train)\t|\tLoss: 0.0005\t|\tAcc: 20.9%\n",
      "\t(valid)\t|\tLoss: 0.0005\t|\tAcc: 21.0%\n",
      "Epoch: 26 |█████████████████████████████████████████████████-| 98.7% Complete\n",
      "\t(train)\t|\tLoss: 0.0005\t|\tAcc: 20.6%\n",
      "\t(valid)\t|\tLoss: 0.0005\t|\tAcc: 21.0%\n",
      "Epoch: 27 |█████████████████████████████████████████████████-| 98.7% Complete\n",
      "\t(train)\t|\tLoss: 0.0005\t|\tAcc: 20.8%\n",
      "\t(valid)\t|\tLoss: 0.0005\t|\tAcc: 21.0%\n",
      "Epoch: 28 |█████████████████████████████████████████████████-| 98.7% Complete\n",
      "\t(train)\t|\tLoss: 0.0005\t|\tAcc: 20.7%\n",
      "\t(valid)\t|\tLoss: 0.0005\t|\tAcc: 21.0%\n",
      "Epoch: 29 |█████████████████████████████████████████████████-| 98.7% Complete\n",
      "\t(train)\t|\tLoss: 0.0005\t|\tAcc: 20.8%\n",
      "\t(valid)\t|\tLoss: 0.0005\t|\tAcc: 21.0%\n"
     ]
    }
   ],
   "source": [
    "\n",
    "for epoch in range(N_EPOCHS):\n",
    "    train_loss, train_acc = train_classification(train_dataset, model=model, criterion=criterion, optimizer=optimizer, batch_size=BATCH_SIZE, device=device)\n",
    "    valid_loss, valid_acc = test_classification(val_dataset, model=model, criterion=criterion, batch_size=BATCH_SIZE, device=device)\n",
    "\n",
    "    print(f'Epoch: {epoch}')\n",
    "    print(f'\\t(train)\\t|\\tLoss: {train_loss:.4f}\\t|\\tAcc: {train_acc * 100:.1f}%')\n",
    "    print(f'\\t(valid)\\t|\\tLoss: {valid_loss:.4f}\\t|\\tAcc: {valid_acc * 100:.1f}%')"
   ]
  },
  {
   "cell_type": "code",
   "execution_count": 56,
   "id": "international-casting",
   "metadata": {},
   "outputs": [],
   "source": [
    "\n",
    "def predict(test_data, model, criterion, batch_size, device, generate_batch=None):\n",
    "    \"\"\"Calculate performance of a Pytorch multi-class classification model\n",
    "\n",
    "    Parameters\n",
    "    ----------\n",
    "    test_data : torch.utils.data.Dataset\n",
    "        Pytorch dataset\n",
    "    model: torch.nn.Module\n",
    "        Pytorch Model\n",
    "    criterion: function\n",
    "        Loss function\n",
    "    bacth_size : int\n",
    "        Number of observations per batch\n",
    "    device : str\n",
    "        Name of the device used for the model\n",
    "    collate_fn : function\n",
    "        Function defining required pre-processing steps\n",
    "\n",
    "    Returns\n",
    "    -------\n",
    "    Float\n",
    "        Loss score\n",
    "    Float:\n",
    "        Accuracy Score\n",
    "    \"\"\"    \n",
    "    \n",
    "    # Set model to evaluation mode\n",
    "    model.eval()\n",
    "    test_loss = 0\n",
    "    test_acc = 0\n",
    "    \n",
    "    # Create data loader\n",
    "    data = DataLoader(test_data, batch_size=batch_size, collate_fn=generate_batch)\n",
    "    results = []\n",
    "    # Iterate through data by batch of observations\n",
    "    for feature, target_class in data:\n",
    "        \n",
    "        feature, target_class = feature.to(device), target_class.flatten().to(device)\n",
    "        \n",
    "        # Set no update to gradients\n",
    "        with torch.no_grad():\n",
    "            # Make predictions\n",
    "            output = model(feature)\n",
    "            \n",
    "        results.append({'prediction': output.argmax(1)[0],'target': target_class[0] })\n",
    "    return results"
   ]
  },
  {
   "cell_type": "code",
   "execution_count": 57,
   "id": "architectural-charm",
   "metadata": {},
   "outputs": [],
   "source": [
    "test_predictions = predict(test_dataset, model=model, criterion=criterion, batch_size=1, device=device)"
   ]
  },
  {
   "cell_type": "code",
   "execution_count": 58,
   "id": "casual-rocket",
   "metadata": {},
   "outputs": [],
   "source": [
    "test_predictions = pd.DataFrame(test_predictions)"
   ]
  },
  {
   "cell_type": "code",
   "execution_count": 59,
   "id": "peaceful-runner",
   "metadata": {},
   "outputs": [
    {
     "data": {
      "text/html": [
       "<div>\n",
       "<style scoped>\n",
       "    .dataframe tbody tr th:only-of-type {\n",
       "        vertical-align: middle;\n",
       "    }\n",
       "\n",
       "    .dataframe tbody tr th {\n",
       "        vertical-align: top;\n",
       "    }\n",
       "\n",
       "    .dataframe thead th {\n",
       "        text-align: right;\n",
       "    }\n",
       "</style>\n",
       "<table border=\"1\" class=\"dataframe\">\n",
       "  <thead>\n",
       "    <tr style=\"text-align: right;\">\n",
       "      <th></th>\n",
       "      <th>prediction</th>\n",
       "      <th>target</th>\n",
       "    </tr>\n",
       "  </thead>\n",
       "  <tbody>\n",
       "    <tr>\n",
       "      <th>0</th>\n",
       "      <td>tensor(25)</td>\n",
       "      <td>tensor(98.)</td>\n",
       "    </tr>\n",
       "    <tr>\n",
       "      <th>1</th>\n",
       "      <td>tensor(12)</td>\n",
       "      <td>tensor(12.)</td>\n",
       "    </tr>\n",
       "    <tr>\n",
       "      <th>2</th>\n",
       "      <td>tensor(9)</td>\n",
       "      <td>tensor(20.)</td>\n",
       "    </tr>\n",
       "    <tr>\n",
       "      <th>3</th>\n",
       "      <td>tensor(9)</td>\n",
       "      <td>tensor(5.)</td>\n",
       "    </tr>\n",
       "  </tbody>\n",
       "</table>\n",
       "</div>"
      ],
      "text/plain": [
       "   prediction       target\n",
       "0  tensor(25)  tensor(98.)\n",
       "1  tensor(12)  tensor(12.)\n",
       "2   tensor(9)  tensor(20.)\n",
       "3   tensor(9)   tensor(5.)"
      ]
     },
     "execution_count": 59,
     "metadata": {},
     "output_type": "execute_result"
    }
   ],
   "source": [
    "test_predictions.head(4)"
   ]
  },
  {
   "cell_type": "code",
   "execution_count": 60,
   "id": "grand-setting",
   "metadata": {},
   "outputs": [
    {
     "data": {
      "text/plain": [
       "tensor(25, dtype=torch.int32)"
      ]
     },
     "execution_count": 60,
     "metadata": {},
     "output_type": "execute_result"
    }
   ],
   "source": [
    "test_predictions[\"prediction\"][0].int()"
   ]
  },
  {
   "cell_type": "code",
   "execution_count": 61,
   "id": "geographic-diagnosis",
   "metadata": {},
   "outputs": [],
   "source": [
    "from sklearn.metrics import confusion_matrix"
   ]
  },
  {
   "cell_type": "code",
   "execution_count": 62,
   "id": "played-mount",
   "metadata": {},
   "outputs": [],
   "source": [
    "pd.DataFrame(confusion_matrix(test_predictions['prediction'].astype(int), test_predictions['target'].astype(int))).to_csv('reports/confusion_matrix.csv')"
   ]
  },
  {
   "cell_type": "markdown",
   "id": "working-attention",
   "metadata": {},
   "source": [
    "## Save Model"
   ]
  },
  {
   "cell_type": "code",
   "execution_count": 63,
   "id": "local-northeast",
   "metadata": {},
   "outputs": [],
   "source": [
    "torch.save(model.state_dict(), \"models/beer_style_prediction.pt\")"
   ]
  },
  {
   "cell_type": "code",
   "execution_count": 65,
   "id": "metric-gentleman",
   "metadata": {},
   "outputs": [
    {
     "data": {
      "text/plain": [
       "<All keys matched successfully>"
      ]
     },
     "execution_count": 65,
     "metadata": {},
     "output_type": "execute_result"
    }
   ],
   "source": [
    "model2 = PytorchMultiClass(num_features = 1004,class_num= 104)\n",
    "model2.load_state_dict(torch.load('models/beer_style_prediction.pt'))"
   ]
  },
  {
   "cell_type": "code",
   "execution_count": 66,
   "id": "honey-header",
   "metadata": {},
   "outputs": [],
   "source": [
    "test_predictions = predict(test_dataset, model=model2, criterion=criterion, batch_size=1, device=device)"
   ]
  },
  {
   "cell_type": "code",
   "execution_count": 67,
   "id": "contrary-robin",
   "metadata": {},
   "outputs": [
    {
     "data": {
      "text/html": [
       "<div>\n",
       "<style scoped>\n",
       "    .dataframe tbody tr th:only-of-type {\n",
       "        vertical-align: middle;\n",
       "    }\n",
       "\n",
       "    .dataframe tbody tr th {\n",
       "        vertical-align: top;\n",
       "    }\n",
       "\n",
       "    .dataframe thead th {\n",
       "        text-align: right;\n",
       "    }\n",
       "</style>\n",
       "<table border=\"1\" class=\"dataframe\">\n",
       "  <thead>\n",
       "    <tr style=\"text-align: right;\">\n",
       "      <th></th>\n",
       "      <th>prediction</th>\n",
       "      <th>target</th>\n",
       "    </tr>\n",
       "  </thead>\n",
       "  <tbody>\n",
       "    <tr>\n",
       "      <th>0</th>\n",
       "      <td>tensor(25)</td>\n",
       "      <td>tensor(98.)</td>\n",
       "    </tr>\n",
       "    <tr>\n",
       "      <th>1</th>\n",
       "      <td>tensor(12)</td>\n",
       "      <td>tensor(12.)</td>\n",
       "    </tr>\n",
       "    <tr>\n",
       "      <th>2</th>\n",
       "      <td>tensor(9)</td>\n",
       "      <td>tensor(20.)</td>\n",
       "    </tr>\n",
       "    <tr>\n",
       "      <th>3</th>\n",
       "      <td>tensor(9)</td>\n",
       "      <td>tensor(5.)</td>\n",
       "    </tr>\n",
       "  </tbody>\n",
       "</table>\n",
       "</div>"
      ],
      "text/plain": [
       "   prediction       target\n",
       "0  tensor(25)  tensor(98.)\n",
       "1  tensor(12)  tensor(12.)\n",
       "2   tensor(9)  tensor(20.)\n",
       "3   tensor(9)   tensor(5.)"
      ]
     },
     "execution_count": 67,
     "metadata": {},
     "output_type": "execute_result"
    }
   ],
   "source": [
    "test_predictions = pd.DataFrame(test_predictions)\n",
    "test_predictions.head(4)"
   ]
  },
  {
   "cell_type": "code",
   "execution_count": 43,
   "id": "contrary-secondary",
   "metadata": {},
   "outputs": [
    {
     "name": "stdout",
     "output_type": "stream",
     "text": [
      "OrderedDict([('layer_1.weight', tensor([[-0.0872, -0.3472, -1.8527,  ...,  2.2696,  2.3152,  8.0728],\n",
      "        [ 0.9249, -0.9161, -0.1204,  ..., -5.3224, -4.3585, -2.9305],\n",
      "        [ 0.1729,  2.0358, -1.4084,  ..., -1.4865,  5.9749, -2.6550],\n",
      "        ...,\n",
      "        [ 0.9383, -0.3152,  0.8588,  ..., -2.5122,  3.6488, -0.4877],\n",
      "        [-1.0225,  0.1445, -0.2054,  ..., -4.0997,  8.0831, -0.0414],\n",
      "        [-2.3319,  3.0059, -1.6737,  ...,  1.8239, -2.1176, -3.3638]])), ('layer_1.bias', tensor([-3.6998,  2.5781, -0.6749, -0.1455, -5.7757,  2.0219,  0.3723,  1.7660,\n",
      "         2.2467,  1.0374,  0.1423, -1.5651, -3.2685,  0.6353, -0.5536, -1.7046,\n",
      "        -4.4204,  2.8746, -0.4682, -2.6283, -3.8182, -0.1920,  0.8540, -5.4583,\n",
      "         2.9375, -4.0122,  2.6254,  0.6579, -1.3517, -4.7528, -0.2017, -0.3514,\n",
      "        -0.3790, -0.0262, -0.1056, -1.4354, -1.4846,  3.4382,  0.6050, -2.5827,\n",
      "         0.9056, -3.0148,  0.5884,  1.0139, -0.6524, -7.4519, -3.1796, -5.4752,\n",
      "         0.1723, -1.5168, -0.0100,  2.1749,  2.4806, -4.7480,  0.1026,  1.0966,\n",
      "        -5.4806,  3.2779, -1.9942,  2.0232, -0.1845,  0.7598, -7.7677,  0.1146,\n",
      "        -1.5584,  0.2701, -0.0307, -2.1988, -1.2671, -2.2527, -0.4885, -6.8618,\n",
      "        -1.3204, -4.4497, -2.1558, -4.7048, -3.4091, -3.3806, -0.6669,  0.5890,\n",
      "        -2.3501, -3.9385, -0.8435, -0.0669, -3.3005, -5.5467,  0.0457, -0.1135,\n",
      "        -0.2157, -3.6804, -5.7098,  0.3461, -0.5869, -3.5693,  1.0247,  1.4306,\n",
      "        -1.0286, -4.2033,  2.4361,  1.0150, -2.9208, -1.2037, -1.8186,  1.0503])), ('layer_2.weight', tensor([[-0.0728, -0.0673, -0.0814,  ..., -0.0919,  0.0319,  0.0405],\n",
      "        [-0.0310,  0.0322,  0.0788,  ...,  0.0700, -0.0307,  0.0302],\n",
      "        [ 0.0640, -0.0516,  0.0926,  ..., -0.0804, -0.0071,  0.0178],\n",
      "        ...,\n",
      "        [ 0.0368,  0.0155,  0.0339,  ..., -0.0217,  0.0810,  0.0454],\n",
      "        [-0.0869, -0.0976,  0.0967,  ...,  0.0344, -0.0972,  0.0320],\n",
      "        [-0.0175, -0.0500, -0.0198,  ...,  0.0364,  0.0361, -0.0620]])), ('layer_2.bias', tensor([ 0.0928, -0.0945,  0.0766, -0.0347,  0.0839,  0.0035, -0.0377,  0.0877,\n",
      "         0.0031,  0.0737,  0.0604,  0.0910, -0.0936, -0.0940,  0.0155,  0.0225,\n",
      "        -0.0364, -0.0336,  0.0568,  0.0123, -0.0798,  0.0195,  0.0602,  0.0574,\n",
      "        -0.0002, -0.0206, -0.0822, -0.0836, -0.0664,  0.0222,  0.0267,  0.0336,\n",
      "         0.0061, -0.0578, -0.0288,  0.0382, -0.0108,  0.0909, -0.0346,  0.0958,\n",
      "         0.0443,  0.0845, -0.0887,  0.0926,  0.0548,  0.0393, -0.0316,  0.0533,\n",
      "         0.0088, -0.0885,  0.0767,  0.0734, -0.0249,  0.0069, -0.0418,  0.0565,\n",
      "        -0.0673, -0.0245, -0.0383,  0.0549,  0.0585,  0.0408,  0.0726, -0.0112,\n",
      "        -0.0033, -0.0362, -0.0620, -0.0925,  0.0489,  0.0098, -0.0473,  0.0709,\n",
      "        -0.0393, -0.0544,  0.0411,  0.0467,  0.0562, -0.0416,  0.0078,  0.0224,\n",
      "         0.0752, -0.0466, -0.0327, -0.0502, -0.0635, -0.0086, -0.0109, -0.0214,\n",
      "        -0.0412,  0.0274,  0.0430,  0.0665,  0.0641,  0.0432, -0.0470,  0.0338,\n",
      "        -0.0490, -0.0480, -0.0915,  0.0590, -0.0880, -0.0770, -0.0355, -0.0870])), ('layer_out.weight', tensor([[-0.9141, -1.1259, -1.0041,  ..., -0.9253, -1.4950, -1.0524],\n",
      "        [ 1.8789,  4.7015, -1.0070,  ...,  0.4625, -2.0621, -4.6853],\n",
      "        [-0.3031, -0.1409, -0.2688,  ...,  0.3683, -0.5910, -0.4596],\n",
      "        ...,\n",
      "        [-0.9387, -0.8686, -0.9048,  ..., -0.7546, -1.3630, -1.0638],\n",
      "        [-0.8460, -0.6937, -0.7156,  ..., -0.8412, -1.1369, -0.5804],\n",
      "        [-0.3592, -1.0258, -0.5297,  ...,  0.3099, -0.5846, -2.4743]])), ('layer_out.bias', tensor([-1.2822, -1.8058, -0.5773, -1.4949, -0.7014, -1.4692, -1.4045, -0.6472,\n",
      "        -1.0665, -4.6713, -1.1987, -0.2623,  1.7200, -1.2103,  4.2535, -1.3174,\n",
      "        -0.8453, -0.2738, -0.8021, -0.5062, -0.9367, -1.4279, -1.2290, -1.0764,\n",
      "         6.6989, -2.6031,  2.4704, -1.1197, -1.1685, -0.7331, -1.1874, -1.2363,\n",
      "        -1.0619, -1.1173, -1.1567, -1.3229,  8.0372,  8.3509, -0.8339, -0.4983,\n",
      "        -1.1080, -0.7953, -1.1867, -1.1957, -1.1229, -1.1212, -1.6731,  4.4411,\n",
      "        -1.0776, -1.4190, -1.0389, -1.1908, -1.1971,  1.6070, -1.1435, -1.0242,\n",
      "        -0.9690, -1.0793,  5.6501, -1.2426, -4.2888, -0.5632, -1.0175, -0.8256,\n",
      "        -1.1118, 11.0667, -1.3612, -1.6190, -1.3245, -1.1858, -1.0650, -1.0101,\n",
      "        -1.1952, -1.4111,  6.8909, -1.0525, -0.9612, -1.1733, -1.1153, -1.4755,\n",
      "         6.8132, -0.5620, -1.1277, -0.8861, -1.1430, -1.5442, -0.4806, 16.7206,\n",
      "        -1.0979, -6.9679, -1.4214, -1.1698, -0.7250,  5.6536, -0.9095, -0.8641,\n",
      "         8.2343, -1.2136,  0.1041, -1.3627,  7.0436, -1.1936, -0.7409, -0.9871]))])\n"
     ]
    }
   ],
   "source": [
    "print(model2.state_dict())"
   ]
  },
  {
   "cell_type": "code",
   "execution_count": 54,
   "id": "traditional-pocket",
   "metadata": {},
   "outputs": [
    {
     "name": "stdout",
     "output_type": "stream",
     "text": [
      "PytorchMultiClass(\n",
      "  (layer_1): Linear(in_features=1005, out_features=104, bias=True)\n",
      "  (layer_2): Linear(in_features=104, out_features=104, bias=True)\n",
      "  (layer_3): ReLU()\n",
      "  (layer_out): Linear(in_features=104, out_features=104, bias=True)\n",
      "  (softmax): Softmax(dim=1)\n",
      ")\n"
     ]
    }
   ],
   "source": [
    "print(model)"
   ]
  },
  {
   "cell_type": "code",
   "execution_count": 82,
   "id": "approximate-escape",
   "metadata": {},
   "outputs": [
    {
     "data": {
      "text/plain": [
       "'PytorchMultiClass(\\n  (layer_1): Linear(in_features=1005, out_features=104, bias=True)\\n  (layer_2): Linear(in_features=104, out_features=104, bias=True)\\n  (layer_3): ReLU()\\n  (layer_out): Linear(in_features=104, out_features=104, bias=True)\\n  (softmax): Softmax(dim=1)\\n)'"
      ]
     },
     "execution_count": 82,
     "metadata": {},
     "output_type": "execute_result"
    }
   ],
   "source": [
    "str(model)"
   ]
  },
  {
   "cell_type": "code",
   "execution_count": 81,
   "id": "least-monster",
   "metadata": {},
   "outputs": [
    {
     "data": {
      "text/plain": [
       "Linear(in_features=1005, out_features=104, bias=True)"
      ]
     },
     "execution_count": 81,
     "metadata": {},
     "output_type": "execute_result"
    }
   ],
   "source": [
    "model.layer_1"
   ]
  },
  {
   "cell_type": "code",
   "execution_count": 83,
   "id": "coral-citation",
   "metadata": {},
   "outputs": [
    {
     "data": {
      "text/plain": [
       "<bound method PytorchMultiClass.forward of PytorchMultiClass(\n",
       "  (layer_1): Linear(in_features=1005, out_features=104, bias=True)\n",
       "  (layer_2): Linear(in_features=104, out_features=104, bias=True)\n",
       "  (layer_3): ReLU()\n",
       "  (layer_out): Linear(in_features=104, out_features=104, bias=True)\n",
       "  (softmax): Softmax(dim=1)\n",
       ")>"
      ]
     },
     "execution_count": 83,
     "metadata": {},
     "output_type": "execute_result"
    }
   ],
   "source": [
    "model.forward"
   ]
  },
  {
   "cell_type": "code",
   "execution_count": null,
   "id": "boxed-astronomy",
   "metadata": {},
   "outputs": [],
   "source": []
  }
 ],
 "metadata": {
  "kernelspec": {
   "display_name": "Python 3",
   "language": "python",
   "name": "python3"
  },
  "language_info": {
   "codemirror_mode": {
    "name": "ipython",
    "version": 3
   },
   "file_extension": ".py",
   "mimetype": "text/x-python",
   "name": "python",
   "nbconvert_exporter": "python",
   "pygments_lexer": "ipython3",
   "version": "3.8.8"
  }
 },
 "nbformat": 4,
 "nbformat_minor": 5
}
