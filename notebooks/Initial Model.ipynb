{
 "cells": [
  {
   "cell_type": "code",
   "execution_count": 1,
   "id": "better-highland",
   "metadata": {},
   "outputs": [],
   "source": [
    "## Build Data set\n",
    "import pandas as pd\n",
    "import numpy as np\n",
    "from sklearn.preprocessing import StandardScaler, OneHotEncoder, LabelEncoder\n",
    "from sklearn.model_selection import train_test_split\n",
    "import torch\n",
    "import torch.nn as nn\n",
    "import torch.nn.functional as F\n",
    "import os\n",
    "from torch.utils.data import DataLoader\n",
    "import torch.nn.functional as F\n"
   ]
  },
  {
   "cell_type": "code",
   "execution_count": 2,
   "id": "massive-manitoba",
   "metadata": {},
   "outputs": [
    {
     "data": {
      "text/plain": [
       "'/Users/markbrackenrig/Documents/2021_FEB/ADSI/assignment_2'"
      ]
     },
     "execution_count": 2,
     "metadata": {},
     "output_type": "execute_result"
    }
   ],
   "source": [
    "os.chdir('../')\n",
    "os.getcwd()"
   ]
  },
  {
   "cell_type": "code",
   "execution_count": 3,
   "id": "radical-pavilion",
   "metadata": {},
   "outputs": [],
   "source": [
    "from src.data import make_dataset"
   ]
  },
  {
   "cell_type": "code",
   "execution_count": 5,
   "id": "exterior-tucson",
   "metadata": {},
   "outputs": [],
   "source": [
    "data = pd.read_csv('data/raw/beer_reviews.csv')\n",
    "subsample = data.sample(frac=0.5)"
   ]
  },
  {
   "cell_type": "code",
   "execution_count": 6,
   "id": "loaded-innocent",
   "metadata": {},
   "outputs": [
    {
     "name": "stdout",
     "output_type": "stream",
     "text": [
      "columns dropped\n",
      "brewery names encoded\n",
      "scaled data\n"
     ]
    }
   ],
   "source": [
    "X,y,y_encoder,ohe,scaler = make_dataset.process_data(subsample)"
   ]
  },
  {
   "cell_type": "code",
   "execution_count": 28,
   "id": "daily-stamp",
   "metadata": {},
   "outputs": [],
   "source": [
    "import pickle as pkl\n",
    "\n",
    "pkl.dump(ohe, open('models/ohe.pkl', 'wb'))\n",
    "pkl.dump(y_encoder, open('models/y_encoder.pkl', 'wb'))\n",
    "pkl.dump(scaler, open('models/scaler.pkl', 'wb'))\n"
   ]
  },
  {
   "cell_type": "markdown",
   "id": "destroyed-school",
   "metadata": {},
   "source": [
    "## Split into training and test sets"
   ]
  },
  {
   "cell_type": "code",
   "execution_count": 8,
   "id": "unexpected-mortgage",
   "metadata": {},
   "outputs": [],
   "source": [
    "X_train, X_test, y_train, y_test = train_test_split(X,y, test_size = 0.2, random_state = 42)"
   ]
  },
  {
   "cell_type": "code",
   "execution_count": 9,
   "id": "lightweight-backing",
   "metadata": {},
   "outputs": [],
   "source": [
    "X_train, X_val, y_train, y_val = train_test_split(X_train,y_train, test_size = 0.25, random_state = 42)"
   ]
  },
  {
   "cell_type": "code",
   "execution_count": 10,
   "id": "signed-shock",
   "metadata": {},
   "outputs": [],
   "source": [
    "from src.models.pytorch import PytorchDataset\n",
    "\n",
    "train_dataset = PytorchDataset(X=X_train, y=y_train)\n",
    "val_dataset = PytorchDataset(X=X_val, y=y_val)\n",
    "test_dataset = PytorchDataset(X=X_test, y=y_test)"
   ]
  },
  {
   "cell_type": "markdown",
   "id": "pretty-closure",
   "metadata": {},
   "source": [
    "## Define Baseline Model"
   ]
  },
  {
   "cell_type": "code",
   "execution_count": 11,
   "id": "spectacular-stock",
   "metadata": {},
   "outputs": [],
   "source": [
    "from src.models.null import NullModel\n",
    "\n",
    "baseline_model = NullModel(target_type = 'classification')\n",
    "y_base = baseline_model.fit_predict(y_train)"
   ]
  },
  {
   "cell_type": "code",
   "execution_count": 12,
   "id": "assumed-belgium",
   "metadata": {},
   "outputs": [
    {
     "name": "stdout",
     "output_type": "stream",
     "text": [
      "Accuracy Training: 0.07445644067120044\n",
      "F1 Training: 0.010319192751938586\n"
     ]
    }
   ],
   "source": [
    "from src.models.performance import print_class_perf\n",
    "print_class_perf(y_base, y_train, set_name='Training', average = 'weighted')"
   ]
  },
  {
   "cell_type": "markdown",
   "id": "determined-prayer",
   "metadata": {},
   "source": [
    "## Define Model Architecture\n",
    "\n",
    "Just want to get a basic 1 layer model working before I try and get anything deeper working"
   ]
  },
  {
   "cell_type": "code",
   "execution_count": 13,
   "id": "normal-ocean",
   "metadata": {},
   "outputs": [],
   "source": [
    "from src.models.pytorch import PytorchMultiClass\n",
    "\n",
    "model = PytorchMultiClass(num_features = X_train.shape[1],class_num= 104)"
   ]
  },
  {
   "cell_type": "code",
   "execution_count": 14,
   "id": "quantitative-courage",
   "metadata": {},
   "outputs": [],
   "source": [
    "class PytorchMultiClass(nn.Module):\n",
    "    def __init__(self, num_features,class_num):\n",
    "        super(PytorchMultiClass, self).__init__()\n",
    "        \n",
    "        self.layer_1 = nn.Linear(num_features, 104)\n",
    "        self.layer_2 = nn.Linear(104, 104)\n",
    "        self.layer_3 = nn.ReLU()\n",
    "        self.layer_out = nn.Linear(104,class_num)\n",
    "        self.softmax = nn.Softmax(dim=1)\n",
    "\n",
    "    def forward(self, x):\n",
    "        x = F.dropout(F.relu(self.layer_1(x)), training=self.training)\n",
    "        x = self.layer_out(x)\n",
    "        return self.softmax(x)\n",
    "    \n",
    "    \n",
    "model = PytorchMultiClass(num_features = X_train.shape[1],class_num= 104)"
   ]
  },
  {
   "cell_type": "code",
   "execution_count": 15,
   "id": "satisfactory-protein",
   "metadata": {},
   "outputs": [
    {
     "name": "stdout",
     "output_type": "stream",
     "text": [
      "cpu\n"
     ]
    },
    {
     "data": {
      "text/plain": [
       "PytorchMultiClass(\n",
       "  (layer_1): Linear(in_features=1005, out_features=104, bias=True)\n",
       "  (layer_2): Linear(in_features=104, out_features=104, bias=True)\n",
       "  (layer_3): ReLU()\n",
       "  (layer_out): Linear(in_features=104, out_features=104, bias=True)\n",
       "  (softmax): Softmax(dim=1)\n",
       ")"
      ]
     },
     "execution_count": 15,
     "metadata": {},
     "output_type": "execute_result"
    }
   ],
   "source": [
    "from src.models.pytorch import get_device\n",
    "device = get_device()\n",
    "print(device)\n",
    "model.to(device)"
   ]
  },
  {
   "cell_type": "markdown",
   "id": "realistic-undergraduate",
   "metadata": {},
   "source": [
    "## Train Model"
   ]
  },
  {
   "cell_type": "code",
   "execution_count": 16,
   "id": "dedicated-kidney",
   "metadata": {},
   "outputs": [],
   "source": [
    "N_EPOCHS = 30\n",
    "BATCH_SIZE = 10000\n",
    "criterion = nn.CrossEntropyLoss()\n",
    "optimizer = torch.optim.Adam(model.parameters(), lr=0.1)"
   ]
  },
  {
   "cell_type": "code",
   "execution_count": 17,
   "id": "african-edition",
   "metadata": {},
   "outputs": [],
   "source": [
    "from src.models.train_model import train_classification, test_classification"
   ]
  },
  {
   "cell_type": "code",
   "execution_count": 18,
   "id": "analyzed-garage",
   "metadata": {},
   "outputs": [
    {
     "name": "stdout",
     "output_type": "stream",
     "text": [
      "Epoch: 0: |████████████████████████████████████████████████--| 97.9% Complete\n",
      "\t(train)\t|\tLoss: 0.0005\t|\tAcc: 11.2%\n",
      "\t(valid)\t|\tLoss: 0.0005\t|\tAcc: 14.4%\n",
      "Epoch: 1: |████████████████████████████████████████████████--| 97.9% Complete\n",
      "\t(train)\t|\tLoss: 0.0005\t|\tAcc: 15.1%\n",
      "\t(valid)\t|\tLoss: 0.0005\t|\tAcc: 16.4%\n",
      "Epoch: 2: |████████████████████████████████████████████████--| 97.9% Complete\n",
      "\t(train)\t|\tLoss: 0.0005\t|\tAcc: 16.8%\n",
      "\t(valid)\t|\tLoss: 0.0005\t|\tAcc: 17.5%\n",
      "Epoch: 3: |████████████████████████████████████████████████--| 97.9% Complete\n",
      "\t(train)\t|\tLoss: 0.0005\t|\tAcc: 17.3%\n",
      "\t(valid)\t|\tLoss: 0.0005\t|\tAcc: 17.9%\n",
      "Epoch: 4: |████████████████████████████████████████████████--| 97.9% Complete\n",
      "\t(train)\t|\tLoss: 0.0005\t|\tAcc: 17.7%\n",
      "\t(valid)\t|\tLoss: 0.0005\t|\tAcc: 18.1%\n",
      "Epoch: 5: |████████████████████████████████████████████████--| 97.9% Complete\n",
      "\t(train)\t|\tLoss: 0.0005\t|\tAcc: 18.0%\n",
      "\t(valid)\t|\tLoss: 0.0005\t|\tAcc: 18.4%\n",
      "Epoch: 6: |████████████████████████████████████████████████--| 97.9% Complete\n",
      "\t(train)\t|\tLoss: 0.0005\t|\tAcc: 18.0%\n",
      "\t(valid)\t|\tLoss: 0.0005\t|\tAcc: 18.3%\n",
      "Epoch: 7: |████████████████████████████████████████████████--| 97.9% Complete\n",
      "\t(train)\t|\tLoss: 0.0005\t|\tAcc: 18.0%\n",
      "\t(valid)\t|\tLoss: 0.0005\t|\tAcc: 18.6%\n",
      "Epoch: 8: |████████████████████████████████████████████████--| 97.9% Complete\n",
      "\t(train)\t|\tLoss: 0.0005\t|\tAcc: 18.2%\n",
      "\t(valid)\t|\tLoss: 0.0005\t|\tAcc: 18.7%\n",
      "Epoch: 9: |████████████████████████████████████████████████--| 97.9% Complete\n",
      "\t(train)\t|\tLoss: 0.0005\t|\tAcc: 18.3%\n",
      "\t(valid)\t|\tLoss: 0.0005\t|\tAcc: 18.7%\n",
      "Epoch: 10 |████████████████████████████████████████████████--| 97.9% Complete\n",
      "\t(train)\t|\tLoss: 0.0005\t|\tAcc: 18.4%\n",
      "\t(valid)\t|\tLoss: 0.0005\t|\tAcc: 18.7%\n",
      "Epoch: 11 |████████████████████████████████████████████████--| 97.9% Complete\n",
      "\t(train)\t|\tLoss: 0.0005\t|\tAcc: 18.4%\n",
      "\t(valid)\t|\tLoss: 0.0005\t|\tAcc: 18.7%\n",
      "Epoch: 12 |████████████████████████████████████████████████--| 97.9% Complete\n",
      "\t(train)\t|\tLoss: 0.0005\t|\tAcc: 18.5%\n",
      "\t(valid)\t|\tLoss: 0.0005\t|\tAcc: 18.6%\n",
      "Epoch: 13 |████████████████████████████████████████████████--| 97.9% Complete\n",
      "\t(train)\t|\tLoss: 0.0005\t|\tAcc: 18.5%\n",
      "\t(valid)\t|\tLoss: 0.0005\t|\tAcc: 18.8%\n",
      "Epoch: 14 |████████████████████████████████████████████████--| 97.9% Complete\n",
      "\t(train)\t|\tLoss: 0.0005\t|\tAcc: 18.5%\n",
      "\t(valid)\t|\tLoss: 0.0005\t|\tAcc: 18.8%\n",
      "Epoch: 15 |████████████████████████████████████████████████--| 97.9% Complete\n",
      "\t(train)\t|\tLoss: 0.0005\t|\tAcc: 18.6%\n",
      "\t(valid)\t|\tLoss: 0.0005\t|\tAcc: 18.9%\n",
      "Epoch: 16 |████████████████████████████████████████████████--| 97.9% Complete\n",
      "\t(train)\t|\tLoss: 0.0005\t|\tAcc: 18.7%\n",
      "\t(valid)\t|\tLoss: 0.0005\t|\tAcc: 19.0%\n",
      "Epoch: 17 |████████████████████████████████████████████████--| 97.9% Complete\n",
      "\t(train)\t|\tLoss: 0.0005\t|\tAcc: 18.7%\n",
      "\t(valid)\t|\tLoss: 0.0005\t|\tAcc: 19.1%\n",
      "Epoch: 18 |████████████████████████████████████████████████--| 97.9% Complete\n",
      "\t(train)\t|\tLoss: 0.0005\t|\tAcc: 18.8%\n",
      "\t(valid)\t|\tLoss: 0.0005\t|\tAcc: 19.1%\n",
      "Epoch: 19 |████████████████████████████████████████████████--| 97.9% Complete\n",
      "\t(train)\t|\tLoss: 0.0005\t|\tAcc: 18.7%\n",
      "\t(valid)\t|\tLoss: 0.0005\t|\tAcc: 19.1%\n",
      "Epoch: 20 |████████████████████████████████████████████████--| 97.9% Complete\n",
      "\t(train)\t|\tLoss: 0.0005\t|\tAcc: 18.8%\n",
      "\t(valid)\t|\tLoss: 0.0005\t|\tAcc: 19.0%\n",
      "Epoch: 21 |████████████████████████████████████████████████--| 97.9% Complete\n",
      "\t(train)\t|\tLoss: 0.0005\t|\tAcc: 18.8%\n",
      "\t(valid)\t|\tLoss: 0.0005\t|\tAcc: 19.0%\n",
      "Epoch: 22 |████████████████████████████████████████████████--| 97.9% Complete\n",
      "\t(train)\t|\tLoss: 0.0005\t|\tAcc: 18.6%\n",
      "\t(valid)\t|\tLoss: 0.0005\t|\tAcc: 19.1%\n",
      "Epoch: 23 |████████████████████████████████████████████████--| 97.9% Complete\n",
      "\t(train)\t|\tLoss: 0.0005\t|\tAcc: 18.8%\n",
      "\t(valid)\t|\tLoss: 0.0005\t|\tAcc: 19.1%\n",
      "Epoch: 24 |████████████████████████████████████████████████--| 97.9% Complete\n",
      "\t(train)\t|\tLoss: 0.0005\t|\tAcc: 18.8%\n",
      "\t(valid)\t|\tLoss: 0.0005\t|\tAcc: 19.1%\n",
      "Epoch: 25 |████████████████████████████████████████████████--| 97.9% Complete\n",
      "\t(train)\t|\tLoss: 0.0005\t|\tAcc: 18.8%\n",
      "\t(valid)\t|\tLoss: 0.0005\t|\tAcc: 19.0%\n",
      "Epoch: 26 |████████████████████████████████████████████████--| 97.9% Complete\n",
      "\t(train)\t|\tLoss: 0.0005\t|\tAcc: 18.8%\n",
      "\t(valid)\t|\tLoss: 0.0005\t|\tAcc: 19.0%\n",
      "Epoch: 27 |████████████████████████████████████████████████--| 97.9% Complete\n",
      "\t(train)\t|\tLoss: 0.0005\t|\tAcc: 18.7%\n",
      "\t(valid)\t|\tLoss: 0.0005\t|\tAcc: 19.0%\n",
      "Epoch: 28 |████████████████████████████████████████████████--| 97.9% Complete\n",
      "\t(train)\t|\tLoss: 0.0005\t|\tAcc: 18.9%\n",
      "\t(valid)\t|\tLoss: 0.0005\t|\tAcc: 19.1%\n",
      "Epoch: 29 |████████████████████████████████████████████████--| 97.9% Complete\n",
      "\t(train)\t|\tLoss: 0.0005\t|\tAcc: 18.9%\n",
      "\t(valid)\t|\tLoss: 0.0005\t|\tAcc: 19.1%\n"
     ]
    }
   ],
   "source": [
    "\n",
    "for epoch in range(N_EPOCHS):\n",
    "    train_loss, train_acc = train_classification(train_dataset, model=model, criterion=criterion, optimizer=optimizer, batch_size=BATCH_SIZE, device=device)\n",
    "    valid_loss, valid_acc = test_classification(val_dataset, model=model, criterion=criterion, batch_size=BATCH_SIZE, device=device)\n",
    "\n",
    "    print(f'Epoch: {epoch}')\n",
    "    print(f'\\t(train)\\t|\\tLoss: {train_loss:.4f}\\t|\\tAcc: {train_acc * 100:.1f}%')\n",
    "    print(f'\\t(valid)\\t|\\tLoss: {valid_loss:.4f}\\t|\\tAcc: {valid_acc * 100:.1f}%')"
   ]
  },
  {
   "cell_type": "code",
   "execution_count": 19,
   "id": "confused-advisory",
   "metadata": {},
   "outputs": [],
   "source": [
    "\n",
    "def predict(test_data, model, criterion, batch_size, device, generate_batch=None):\n",
    "    \"\"\"Calculate performance of a Pytorch multi-class classification model\n",
    "\n",
    "    Parameters\n",
    "    ----------\n",
    "    test_data : torch.utils.data.Dataset\n",
    "        Pytorch dataset\n",
    "    model: torch.nn.Module\n",
    "        Pytorch Model\n",
    "    criterion: function\n",
    "        Loss function\n",
    "    bacth_size : int\n",
    "        Number of observations per batch\n",
    "    device : str\n",
    "        Name of the device used for the model\n",
    "    collate_fn : function\n",
    "        Function defining required pre-processing steps\n",
    "\n",
    "    Returns\n",
    "    -------\n",
    "    Float\n",
    "        Loss score\n",
    "    Float:\n",
    "        Accuracy Score\n",
    "    \"\"\"    \n",
    "    \n",
    "    # Set model to evaluation mode\n",
    "    model.eval()\n",
    "    test_loss = 0\n",
    "    test_acc = 0\n",
    "    \n",
    "    # Create data loader\n",
    "    data = DataLoader(test_data, batch_size=batch_size, collate_fn=generate_batch)\n",
    "    results = []\n",
    "    # Iterate through data by batch of observations\n",
    "    for feature, target_class in data:\n",
    "        \n",
    "        feature, target_class = feature.to(device), target_class.flatten().to(device)\n",
    "        \n",
    "        # Set no update to gradients\n",
    "        with torch.no_grad():\n",
    "            # Make predictions\n",
    "            output = model(feature)\n",
    "            \n",
    "        results.append({'prediction': output.argmax(1)[0],'target': target_class[0] })\n",
    "    return results"
   ]
  },
  {
   "cell_type": "code",
   "execution_count": 20,
   "id": "heated-windsor",
   "metadata": {},
   "outputs": [],
   "source": [
    "test_predictions = predict(test_dataset, model=model, criterion=criterion, batch_size=1, device=device)"
   ]
  },
  {
   "cell_type": "code",
   "execution_count": 21,
   "id": "wrapped-johnston",
   "metadata": {},
   "outputs": [],
   "source": [
    "test_predictions = pd.DataFrame(test_predictions)"
   ]
  },
  {
   "cell_type": "code",
   "execution_count": 22,
   "id": "capable-cross",
   "metadata": {},
   "outputs": [
    {
     "data": {
      "text/html": [
       "<div>\n",
       "<style scoped>\n",
       "    .dataframe tbody tr th:only-of-type {\n",
       "        vertical-align: middle;\n",
       "    }\n",
       "\n",
       "    .dataframe tbody tr th {\n",
       "        vertical-align: top;\n",
       "    }\n",
       "\n",
       "    .dataframe thead th {\n",
       "        text-align: right;\n",
       "    }\n",
       "</style>\n",
       "<table border=\"1\" class=\"dataframe\">\n",
       "  <thead>\n",
       "    <tr style=\"text-align: right;\">\n",
       "      <th></th>\n",
       "      <th>prediction</th>\n",
       "      <th>target</th>\n",
       "    </tr>\n",
       "  </thead>\n",
       "  <tbody>\n",
       "    <tr>\n",
       "      <th>0</th>\n",
       "      <td>tensor(89)</td>\n",
       "      <td>tensor(83.)</td>\n",
       "    </tr>\n",
       "    <tr>\n",
       "      <th>1</th>\n",
       "      <td>tensor(12)</td>\n",
       "      <td>tensor(94.)</td>\n",
       "    </tr>\n",
       "    <tr>\n",
       "      <th>2</th>\n",
       "      <td>tensor(9)</td>\n",
       "      <td>tensor(9.)</td>\n",
       "    </tr>\n",
       "    <tr>\n",
       "      <th>3</th>\n",
       "      <td>tensor(1)</td>\n",
       "      <td>tensor(1.)</td>\n",
       "    </tr>\n",
       "  </tbody>\n",
       "</table>\n",
       "</div>"
      ],
      "text/plain": [
       "   prediction       target\n",
       "0  tensor(89)  tensor(83.)\n",
       "1  tensor(12)  tensor(94.)\n",
       "2   tensor(9)   tensor(9.)\n",
       "3   tensor(1)   tensor(1.)"
      ]
     },
     "execution_count": 22,
     "metadata": {},
     "output_type": "execute_result"
    }
   ],
   "source": [
    "test_predictions.head(4)"
   ]
  },
  {
   "cell_type": "code",
   "execution_count": 23,
   "id": "sound-harbor",
   "metadata": {},
   "outputs": [
    {
     "data": {
      "text/plain": [
       "tensor(89, dtype=torch.int32)"
      ]
     },
     "execution_count": 23,
     "metadata": {},
     "output_type": "execute_result"
    }
   ],
   "source": [
    "test_predictions[\"prediction\"][0].int()"
   ]
  },
  {
   "cell_type": "code",
   "execution_count": 24,
   "id": "understanding-revolution",
   "metadata": {},
   "outputs": [],
   "source": [
    "from sklearn.metrics import confusion_matrix"
   ]
  },
  {
   "cell_type": "code",
   "execution_count": 25,
   "id": "broke-transsexual",
   "metadata": {},
   "outputs": [],
   "source": [
    "pd.DataFrame(confusion_matrix(test_predictions['prediction'].astype(int), test_predictions['target'].astype(int))).to_csv('reports/confusion_matrix.csv')"
   ]
  },
  {
   "cell_type": "markdown",
   "id": "special-breakfast",
   "metadata": {},
   "source": [
    "## Save Model"
   ]
  },
  {
   "cell_type": "code",
   "execution_count": 27,
   "id": "integral-pasta",
   "metadata": {},
   "outputs": [],
   "source": [
    "torch.save(model.state_dict(), \"models/beer_style_prediction.pt\")"
   ]
  },
  {
   "cell_type": "code",
   "execution_count": null,
   "id": "animal-quantity",
   "metadata": {},
   "outputs": [],
   "source": []
  }
 ],
 "metadata": {
  "kernelspec": {
   "display_name": "Python 3",
   "language": "python",
   "name": "python3"
  },
  "language_info": {
   "codemirror_mode": {
    "name": "ipython",
    "version": 3
   },
   "file_extension": ".py",
   "mimetype": "text/x-python",
   "name": "python",
   "nbconvert_exporter": "python",
   "pygments_lexer": "ipython3",
   "version": "3.8.8"
  }
 },
 "nbformat": 4,
 "nbformat_minor": 5
}
