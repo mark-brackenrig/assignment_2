{
 "cells": [
  {
   "cell_type": "code",
   "execution_count": 1,
   "id": "suspected-people",
   "metadata": {},
   "outputs": [],
   "source": [
    "## Build Data set\n",
    "import pandas as pd\n",
    "import numpy as np\n",
    "from sklearn.preprocessing import StandardScaler, OneHotEncoder, LabelEncoder\n",
    "from sklearn.model_selection import train_test_split\n",
    "import torch\n",
    "import torch.nn as nn\n",
    "import torch.nn.functional as F\n",
    "import os\n",
    "from torch.utils.data import DataLoader\n",
    "import torch.nn.functional as F\n"
   ]
  },
  {
   "cell_type": "code",
   "execution_count": 2,
   "id": "alpine-diamond",
   "metadata": {},
   "outputs": [
    {
     "data": {
      "text/plain": [
       "'/Users/markbrackenrig/Documents/2021_FEB/ADSI/assignment_2'"
      ]
     },
     "execution_count": 2,
     "metadata": {},
     "output_type": "execute_result"
    }
   ],
   "source": [
    "os.chdir('../')\n",
    "os.getcwd()"
   ]
  },
  {
   "cell_type": "code",
   "execution_count": 3,
   "id": "japanese-inventory",
   "metadata": {},
   "outputs": [],
   "source": [
    "from src.data import make_dataset"
   ]
  },
  {
   "cell_type": "code",
   "execution_count": 4,
   "id": "organic-swing",
   "metadata": {},
   "outputs": [],
   "source": [
    "data = pd.read_csv('data/raw/beer_reviews.csv')\n",
    "subsample = data.sample(frac=0.5)"
   ]
  },
  {
   "cell_type": "code",
   "execution_count": 5,
   "id": "breathing-colonial",
   "metadata": {},
   "outputs": [
    {
     "name": "stdout",
     "output_type": "stream",
     "text": [
      "columns dropped\n",
      "brewery names encoded\n",
      "scaled data\n"
     ]
    }
   ],
   "source": [
    "X,y,y_encoder,ohe,scaler = make_dataset.process_data(subsample)"
   ]
  },
  {
   "cell_type": "markdown",
   "id": "above-basics",
   "metadata": {},
   "source": [
    "## Split into training and test sets"
   ]
  },
  {
   "cell_type": "code",
   "execution_count": 9,
   "id": "surrounded-nepal",
   "metadata": {},
   "outputs": [],
   "source": [
    "X_train, X_test, y_train, y_test = train_test_split(X,y, test_size = 0.2, random_state = 42)"
   ]
  },
  {
   "cell_type": "code",
   "execution_count": 10,
   "id": "expressed-might",
   "metadata": {},
   "outputs": [],
   "source": [
    "X_train, X_val, y_train, y_val = train_test_split(X_train,y_train, test_size = 0.25, random_state = 42)"
   ]
  },
  {
   "cell_type": "code",
   "execution_count": 11,
   "id": "instrumental-patio",
   "metadata": {},
   "outputs": [],
   "source": [
    "from src.models.pytorch import PytorchDataset\n",
    "\n",
    "train_dataset = PytorchDataset(X=X_train, y=y_train)\n",
    "val_dataset = PytorchDataset(X=X_val, y=y_val)\n",
    "test_dataset = PytorchDataset(X=X_test, y=y_test)"
   ]
  },
  {
   "cell_type": "markdown",
   "id": "settled-killer",
   "metadata": {},
   "source": [
    "## Define Model Architecture\n",
    "\n",
    "Just want to get a basic 1 layer model working before I try and get anything deeper working"
   ]
  },
  {
   "cell_type": "code",
   "execution_count": 12,
   "id": "experienced-builder",
   "metadata": {},
   "outputs": [],
   "source": [
    "from src.models.pytorch import PytorchMultiClass\n",
    "\n",
    "model = PytorchMultiClass(num_features = X_train.shape[1],class_num= 104)"
   ]
  },
  {
   "cell_type": "code",
   "execution_count": 38,
   "id": "polyphonic-amazon",
   "metadata": {},
   "outputs": [],
   "source": [
    "class PytorchMultiClass(nn.Module):\n",
    "    def __init__(self, num_features,class_num):\n",
    "        super(PytorchMultiClass, self).__init__()\n",
    "        \n",
    "        self.layer_1 = nn.Linear(num_features, 104)\n",
    "        self.layer_2 = nn.Linear(104, 104)\n",
    "        self.layer_3 = nn.ReLU()\n",
    "        self.layer_out = nn.Linear(104,class_num)\n",
    "        self.softmax = nn.Softmax(dim=1)\n",
    "\n",
    "    def forward(self, x):\n",
    "        x = F.dropout(F.relu(self.layer_1(x)), training=self.training)\n",
    "        x = self.layer_out(x)\n",
    "        return self.softmax(x)\n",
    "    \n",
    "    \n",
    "model = PytorchMultiClass(num_features = X_train.shape[1],class_num= 104)"
   ]
  },
  {
   "cell_type": "code",
   "execution_count": 39,
   "id": "refined-antique",
   "metadata": {},
   "outputs": [
    {
     "name": "stdout",
     "output_type": "stream",
     "text": [
      "cpu\n"
     ]
    },
    {
     "data": {
      "text/plain": [
       "PytorchMultiClass(\n",
       "  (layer_1): Linear(in_features=1005, out_features=104, bias=True)\n",
       "  (layer_2): Linear(in_features=104, out_features=104, bias=True)\n",
       "  (layer_3): ReLU()\n",
       "  (layer_out): Linear(in_features=104, out_features=104, bias=True)\n",
       "  (softmax): Softmax(dim=1)\n",
       ")"
      ]
     },
     "execution_count": 39,
     "metadata": {},
     "output_type": "execute_result"
    }
   ],
   "source": [
    "from src.models.pytorch import get_device\n",
    "device = get_device()\n",
    "print(device)\n",
    "model.to(device)"
   ]
  },
  {
   "cell_type": "markdown",
   "id": "consecutive-simon",
   "metadata": {},
   "source": [
    "## Train Model"
   ]
  },
  {
   "cell_type": "code",
   "execution_count": 40,
   "id": "agreed-currency",
   "metadata": {},
   "outputs": [],
   "source": [
    "N_EPOCHS = 30\n",
    "BATCH_SIZE = 10000\n",
    "criterion = nn.CrossEntropyLoss()\n",
    "optimizer = torch.optim.Adam(model.parameters(), lr=0.1)"
   ]
  },
  {
   "cell_type": "code",
   "execution_count": 41,
   "id": "durable-america",
   "metadata": {},
   "outputs": [],
   "source": [
    "from src.models.train_model import train_classification, test_classification"
   ]
  },
  {
   "cell_type": "code",
   "execution_count": 44,
   "id": "fifteen-transcription",
   "metadata": {},
   "outputs": [
    {
     "name": "stdout",
     "output_type": "stream",
     "text": [
      "Epoch: 0: |████████████████████████████████████████████████--| 97.9% Complete\n",
      "\t(train)\t|\tLoss: 0.0004\t|\tAcc: 20.9%\n",
      "\t(valid)\t|\tLoss: 0.0004\t|\tAcc: 21.1%\n",
      "Epoch: 1: |████████████████████████████████████████████████--| 97.9% Complete\n",
      "\t(train)\t|\tLoss: 0.0004\t|\tAcc: 21.1%\n",
      "\t(valid)\t|\tLoss: 0.0004\t|\tAcc: 21.1%\n",
      "Epoch: 2: |████████████████████████████████████████████████--| 97.9% Complete\n",
      "\t(train)\t|\tLoss: 0.0004\t|\tAcc: 21.2%\n",
      "\t(valid)\t|\tLoss: 0.0004\t|\tAcc: 21.2%\n"
     ]
    }
   ],
   "source": [
    "\n",
    "for epoch in range(N_EPOCHS):\n",
    "    train_loss, train_acc = train_classification(train_dataset, model=model, criterion=criterion, optimizer=optimizer, batch_size=BATCH_SIZE, device=device)\n",
    "    valid_loss, valid_acc = test_classification(val_dataset, model=model, criterion=criterion, batch_size=BATCH_SIZE, device=device)\n",
    "\n",
    "    print(f'Epoch: {epoch}')\n",
    "    print(f'\\t(train)\\t|\\tLoss: {train_loss:.4f}\\t|\\tAcc: {train_acc * 100:.1f}%')\n",
    "    print(f'\\t(valid)\\t|\\tLoss: {valid_loss:.4f}\\t|\\tAcc: {valid_acc * 100:.1f}%')"
   ]
  },
  {
   "cell_type": "code",
   "execution_count": 54,
   "id": "charitable-gates",
   "metadata": {},
   "outputs": [],
   "source": [
    "\n",
    "def predict(test_data, model, criterion, batch_size, device, generate_batch=None):\n",
    "    \"\"\"Calculate performance of a Pytorch multi-class classification model\n",
    "\n",
    "    Parameters\n",
    "    ----------\n",
    "    test_data : torch.utils.data.Dataset\n",
    "        Pytorch dataset\n",
    "    model: torch.nn.Module\n",
    "        Pytorch Model\n",
    "    criterion: function\n",
    "        Loss function\n",
    "    bacth_size : int\n",
    "        Number of observations per batch\n",
    "    device : str\n",
    "        Name of the device used for the model\n",
    "    collate_fn : function\n",
    "        Function defining required pre-processing steps\n",
    "\n",
    "    Returns\n",
    "    -------\n",
    "    Float\n",
    "        Loss score\n",
    "    Float:\n",
    "        Accuracy Score\n",
    "    \"\"\"    \n",
    "    \n",
    "    # Set model to evaluation mode\n",
    "    model.eval()\n",
    "    test_loss = 0\n",
    "    test_acc = 0\n",
    "    \n",
    "    # Create data loader\n",
    "    data = DataLoader(test_data, batch_size=batch_size, collate_fn=generate_batch)\n",
    "    results = []\n",
    "    # Iterate through data by batch of observations\n",
    "    for feature, target_class in data:\n",
    "        \n",
    "        feature, target_class = feature.to(device), target_class.flatten().to(device)\n",
    "        \n",
    "        # Set no update to gradients\n",
    "        with torch.no_grad():\n",
    "            # Make predictions\n",
    "            output = model(feature)\n",
    "            \n",
    "        results.append({'prediction': output.argmax(1)[0],'target': target_class[0] })\n",
    "    return results"
   ]
  },
  {
   "cell_type": "code",
   "execution_count": 55,
   "id": "monthly-strand",
   "metadata": {},
   "outputs": [],
   "source": [
    "test_predictions = predict(test_dataset, model=model, criterion=criterion, batch_size=1, device=device)"
   ]
  },
  {
   "cell_type": "code",
   "execution_count": 56,
   "id": "current-target",
   "metadata": {},
   "outputs": [],
   "source": [
    "test_predictions = pd.DataFrame(test_predictions)"
   ]
  },
  {
   "cell_type": "code",
   "execution_count": 57,
   "id": "recorded-israel",
   "metadata": {},
   "outputs": [
    {
     "data": {
      "text/html": [
       "<div>\n",
       "<style scoped>\n",
       "    .dataframe tbody tr th:only-of-type {\n",
       "        vertical-align: middle;\n",
       "    }\n",
       "\n",
       "    .dataframe tbody tr th {\n",
       "        vertical-align: top;\n",
       "    }\n",
       "\n",
       "    .dataframe thead th {\n",
       "        text-align: right;\n",
       "    }\n",
       "</style>\n",
       "<table border=\"1\" class=\"dataframe\">\n",
       "  <thead>\n",
       "    <tr style=\"text-align: right;\">\n",
       "      <th></th>\n",
       "      <th>prediction</th>\n",
       "      <th>target</th>\n",
       "    </tr>\n",
       "  </thead>\n",
       "  <tbody>\n",
       "    <tr>\n",
       "      <th>0</th>\n",
       "      <td>tensor(12)</td>\n",
       "      <td>tensor(21.)</td>\n",
       "    </tr>\n",
       "    <tr>\n",
       "      <th>1</th>\n",
       "      <td>tensor(12)</td>\n",
       "      <td>tensor(20.)</td>\n",
       "    </tr>\n",
       "    <tr>\n",
       "      <th>2</th>\n",
       "      <td>tensor(87)</td>\n",
       "      <td>tensor(87.)</td>\n",
       "    </tr>\n",
       "    <tr>\n",
       "      <th>3</th>\n",
       "      <td>tensor(14)</td>\n",
       "      <td>tensor(47.)</td>\n",
       "    </tr>\n",
       "  </tbody>\n",
       "</table>\n",
       "</div>"
      ],
      "text/plain": [
       "   prediction       target\n",
       "0  tensor(12)  tensor(21.)\n",
       "1  tensor(12)  tensor(20.)\n",
       "2  tensor(87)  tensor(87.)\n",
       "3  tensor(14)  tensor(47.)"
      ]
     },
     "execution_count": 57,
     "metadata": {},
     "output_type": "execute_result"
    }
   ],
   "source": [
    "test_predictions.head(4)"
   ]
  },
  {
   "cell_type": "code",
   "execution_count": 63,
   "id": "changed-turkey",
   "metadata": {},
   "outputs": [
    {
     "data": {
      "text/plain": [
       "tensor(12, dtype=torch.int32)"
      ]
     },
     "execution_count": 63,
     "metadata": {},
     "output_type": "execute_result"
    }
   ],
   "source": [
    "test_predictions[\"prediction\"][0].int()"
   ]
  },
  {
   "cell_type": "code",
   "execution_count": 61,
   "id": "decimal-memorial",
   "metadata": {},
   "outputs": [],
   "source": [
    "from sklearn.metrics import confusion_matrix"
   ]
  },
  {
   "cell_type": "code",
   "execution_count": 66,
   "id": "mobile-louisiana",
   "metadata": {},
   "outputs": [],
   "source": [
    "pd.DataFrame(confusion_matrix(test_predictions['prediction'].astype(int), test_predictions['target'].astype(int))).to_csv('reports/confusion_matrix.csv')"
   ]
  },
  {
   "cell_type": "code",
   "execution_count": 75,
   "id": "infectious-analyst",
   "metadata": {},
   "outputs": [
    {
     "data": {
      "text/plain": [
       "array([['American IPA']], dtype=object)"
      ]
     },
     "execution_count": 75,
     "metadata": {},
     "output_type": "execute_result"
    }
   ],
   "source": [
    "inverse_transformer(np.array(12).reshape(-1,1),y_encoder)\n"
   ]
  },
  {
   "cell_type": "code",
   "execution_count": 90,
   "id": "romantic-syria",
   "metadata": {},
   "outputs": [
    {
     "data": {
      "text/plain": [
       "array([['Russian Imperial Stout']], dtype=object)"
      ]
     },
     "execution_count": 90,
     "metadata": {},
     "output_type": "execute_result"
    }
   ],
   "source": [
    "inverse_transformer(np.array(89).reshape(-1,1),y_encoder)"
   ]
  },
  {
   "cell_type": "code",
   "execution_count": null,
   "id": "adverse-argentina",
   "metadata": {},
   "outputs": [],
   "source": []
  }
 ],
 "metadata": {
  "kernelspec": {
   "display_name": "Python 3",
   "language": "python",
   "name": "python3"
  },
  "language_info": {
   "codemirror_mode": {
    "name": "ipython",
    "version": 3
   },
   "file_extension": ".py",
   "mimetype": "text/x-python",
   "name": "python",
   "nbconvert_exporter": "python",
   "pygments_lexer": "ipython3",
   "version": "3.8.8"
  }
 },
 "nbformat": 4,
 "nbformat_minor": 5
}
